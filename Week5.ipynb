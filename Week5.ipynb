{
  "nbformat": 4,
  "nbformat_minor": 0,
  "metadata": {
    "colab": {
      "name": "Week5.ipynb",
      "provenance": [],
      "collapsed_sections": [],
      "authorship_tag": "ABX9TyPUWZvc6TtKCyD/25PLLF2L",
      "include_colab_link": true
    },
    "kernelspec": {
      "name": "python3",
      "display_name": "Python 3"
    },
    "language_info": {
      "name": "python"
    }
  },
  "cells": [
    {
      "cell_type": "markdown",
      "metadata": {
        "id": "view-in-github",
        "colab_type": "text"
      },
      "source": [
        "<a href=\"https://colab.research.google.com/github/shallabhkhera/NPTEL-Data-Analytics-with-Python/blob/main/Week5.ipynb\" target=\"_parent\"><img src=\"https://colab.research.google.com/assets/colab-badge.svg\" alt=\"Open In Colab\"/></a>"
      ]
    },
    {
      "cell_type": "code",
      "metadata": {
        "colab": {
          "base_uri": "https://localhost:8080/"
        },
        "id": "AwVa1T6KCWWb",
        "outputId": "e98f3557-e57b-4fb8-b264-22f7379d1431"
      },
      "source": [
        "from scipy import stats\n",
        "stats.t.ppf(.025,13)"
      ],
      "execution_count": 1,
      "outputs": [
        {
          "output_type": "execute_result",
          "data": {
            "text/plain": [
              "-2.160368656461013"
            ]
          },
          "metadata": {},
          "execution_count": 1
        }
      ]
    },
    {
      "cell_type": "code",
      "metadata": {
        "colab": {
          "base_uri": "https://localhost:8080/"
        },
        "id": "r-cnCbiICjOD",
        "outputId": "14dd5939-35f3-41ea-af37-0d8e35b2dca8"
      },
      "source": [
        "metro=[3,7,25,10,15,6,12,25,15,7]\n",
        "rural=[48,44,40,38,33,21,20,12,1,18]\n",
        "stats.ttest_ind(metro, rural, equal_var = False)"
      ],
      "execution_count": 2,
      "outputs": [
        {
          "output_type": "execute_result",
          "data": {
            "text/plain": [
              "Ttest_indResult(statistic=-2.7669395785560558, pvalue=0.015827284816100885)"
            ]
          },
          "metadata": {},
          "execution_count": 2
        }
      ]
    },
    {
      "cell_type": "code",
      "metadata": {
        "colab": {
          "base_uri": "https://localhost:8080/"
        },
        "id": "G1p3z_dNC19d",
        "outputId": "882f36b3-a8a8-4a7c-c849-ba54cb0ee8f2"
      },
      "source": [
        "KARL=[1.186,1.151,1.322,1.339,1.200,1.402,1.365,1.537,1.559]\n",
        "LEH=[1.061,.992,1.063,1.062,1.065,1.178,1.037,1.086,1.052]\n",
        "stats.ttest_rel(KARL,LEH)"
      ],
      "execution_count": 3,
      "outputs": [
        {
          "output_type": "execute_result",
          "data": {
            "text/plain": [
              "Ttest_relResult(statistic=6.0819394375848255, pvalue=0.00029529546278604066)"
            ]
          },
          "metadata": {},
          "execution_count": 3
        }
      ]
    },
    {
      "cell_type": "code",
      "metadata": {
        "id": "h6Bj-P5EEhOV"
      },
      "source": [
        ""
      ],
      "execution_count": null,
      "outputs": []
    }
  ]
}