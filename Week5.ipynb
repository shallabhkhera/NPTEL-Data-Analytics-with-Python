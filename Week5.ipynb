{
  "nbformat": 4,
  "nbformat_minor": 0,
  "metadata": {
    "colab": {
      "name": "Week5.ipynb",
      "provenance": [],
      "collapsed_sections": [],
      "authorship_tag": "ABX9TyNdMhu82M42v+w2Sjg7TD0J",
      "include_colab_link": true
    },
    "kernelspec": {
      "name": "python3",
      "display_name": "Python 3"
    },
    "language_info": {
      "name": "python"
    }
  },
  "cells": [
    {
      "cell_type": "markdown",
      "metadata": {
        "id": "view-in-github",
        "colab_type": "text"
      },
      "source": [
        "<a href=\"https://colab.research.google.com/github/shallabhkhera/NPTEL-Data-Analytics-with-Python/blob/main/Week5.ipynb\" target=\"_parent\"><img src=\"https://colab.research.google.com/assets/colab-badge.svg\" alt=\"Open In Colab\"/></a>"
      ]
    },
    {
      "cell_type": "code",
      "metadata": {
        "colab": {
          "base_uri": "https://localhost:8080/"
        },
        "id": "AwVa1T6KCWWb",
        "outputId": "312086e4-2724-4216-bc9c-52d159aa64f9"
      },
      "source": [
        "from scipy import stats\n",
        "import numpy as np\n",
        "import pandas as pd\n",
        "import math\n",
        "import scipy\n",
        "import statsmodels.api as sm\n",
        "from statsmodels.formula.api import ols as ols\n",
        "from matplotlib import pyplot as plt\n",
        "stats.t.ppf(.025,13)"
      ],
      "execution_count": 89,
      "outputs": [
        {
          "output_type": "execute_result",
          "data": {
            "text/plain": [
              "-2.160368656461013"
            ]
          },
          "metadata": {},
          "execution_count": 89
        }
      ]
    },
    {
      "cell_type": "code",
      "metadata": {
        "colab": {
          "base_uri": "https://localhost:8080/"
        },
        "id": "r-cnCbiICjOD",
        "outputId": "06d0690d-91f8-4e70-9364-e88d6fa7be3b"
      },
      "source": [
        "metro=[3,7,25,10,15,6,12,25,15,7]\n",
        "rural=[48,44,40,38,33,21,20,12,1,18]\n",
        "stats.ttest_ind(metro, rural, equal_var = False)"
      ],
      "execution_count": 90,
      "outputs": [
        {
          "output_type": "execute_result",
          "data": {
            "text/plain": [
              "Ttest_indResult(statistic=-2.7669395785560558, pvalue=0.015827284816100885)"
            ]
          },
          "metadata": {},
          "execution_count": 90
        }
      ]
    },
    {
      "cell_type": "code",
      "metadata": {
        "colab": {
          "base_uri": "https://localhost:8080/"
        },
        "id": "G1p3z_dNC19d",
        "outputId": "bc1e7d78-9e28-49cb-8e06-e8fd5f3569d1"
      },
      "source": [
        "KARL=[1.186,1.151,1.322,1.339,1.200,1.402,1.365,1.537,1.559]\n",
        "LEH=[1.061,.992,1.063,1.062,1.065,1.178,1.037,1.086,1.052]\n",
        "stats.ttest_rel(KARL,LEH)"
      ],
      "execution_count": 91,
      "outputs": [
        {
          "output_type": "execute_result",
          "data": {
            "text/plain": [
              "Ttest_relResult(statistic=6.0819394375848255, pvalue=0.00029529546278604066)"
            ]
          },
          "metadata": {},
          "execution_count": 91
        }
      ]
    },
    {
      "cell_type": "code",
      "metadata": {
        "id": "h6Bj-P5EEhOV"
      },
      "source": [
        "import math\n",
        "def two_samp_proprortion(p1,p2,n1,n2):\n",
        "  p_pool = ((p1*n1)+(p2*n2))/(n1+n2)\n",
        "  x = (p_pool*(1-p_pool)*((1/n1)+(1/n2)))\n",
        "  s = math.sqrt(x)\n",
        "  z = (p1-p2)/s\n",
        "  p_val = 0\n",
        "  if(z<0):\n",
        "    p_val = stats.norm.cdf(z)\n",
        "  else:\n",
        "    p_val = 1 - stats.norm.cdf(z)\n",
        "  \n",
        "  return z,p_val*2\n"
      ],
      "execution_count": 92,
      "outputs": []
    },
    {
      "cell_type": "code",
      "metadata": {
        "colab": {
          "base_uri": "https://localhost:8080/"
        },
        "id": "22EcCpxYJwrH",
        "outputId": "428eac98-06f5-4294-e99a-0b7ea5dde57b"
      },
      "source": [
        "two_samp_proprortion(.27,.19,100,100)"
      ],
      "execution_count": 93,
      "outputs": [
        {
          "output_type": "execute_result",
          "data": {
            "text/plain": [
              "(1.3442056254198995, 0.17888190308175567)"
            ]
          },
          "metadata": {},
          "execution_count": 93
        }
      ]
    },
    {
      "cell_type": "code",
      "metadata": {
        "colab": {
          "base_uri": "https://localhost:8080/"
        },
        "id": "JMhUu9iSJ04E",
        "outputId": "4c40e32b-285b-4620-9d2b-9584e150e9b0"
      },
      "source": [
        "stats.f.ppf(q=1-0.05,dfn = 15, dfd=10)"
      ],
      "execution_count": 94,
      "outputs": [
        {
          "output_type": "execute_result",
          "data": {
            "text/plain": [
              "2.8450165269958436"
            ]
          },
          "metadata": {},
          "execution_count": 94
        }
      ]
    },
    {
      "cell_type": "code",
      "metadata": {
        "colab": {
          "base_uri": "https://localhost:8080/"
        },
        "id": "0y6__s6JPW8_",
        "outputId": "96be070d-0533-4f75-8ce7-b17ccb477405"
      },
      "source": [
        "stats.f.ppf(q=1-0.95,dfn = 15, dfd=10)"
      ],
      "execution_count": 95,
      "outputs": [
        {
          "output_type": "execute_result",
          "data": {
            "text/plain": [
              "0.3931252536255495"
            ]
          },
          "metadata": {},
          "execution_count": 95
        }
      ]
    },
    {
      "cell_type": "code",
      "metadata": {
        "colab": {
          "base_uri": "https://localhost:8080/"
        },
        "id": "mvj0UBVfPdlU",
        "outputId": "c2ac7974-68de-4d1e-f4a4-63742feb388e"
      },
      "source": [
        "X = [3,7,25,10,15,6,12,25,15,7]\n",
        "Y=[48,44,40,38,33,21,20,12,1,18]\n",
        "F = np.var(X)/np.var(Y)\n",
        "dfn = len(X) - 1\n",
        "dfd = len(Y) - 1\n",
        "p_value = stats.f.cdf(F,dfn,dfd)\n",
        "print(p_value)"
      ],
      "execution_count": 96,
      "outputs": [
        {
          "output_type": "stream",
          "text": [
            "0.024680183438910465\n"
          ],
          "name": "stdout"
        }
      ]
    },
    {
      "cell_type": "code",
      "metadata": {
        "colab": {
          "base_uri": "https://localhost:8080/"
        },
        "id": "I1EhX40MVCFR",
        "outputId": "236ada3b-2132-4c88-e171-e078d4ecbb6f"
      },
      "source": [
        "def samplesize(alfa, beta, mu1, mu2, sigma):\n",
        "  z1 = -1*stats.norm.ppf(alfa)\n",
        "  z2 = -1*stats.norm.ppf(beta)\n",
        "  n = (((z1+z2)**2)*(sigma**2))/((mu1-mu2)**2)\n",
        "  print(n)\n",
        "\n",
        "samplesize(0.05,.1,12,12.75,3.2)\n"
      ],
      "execution_count": 97,
      "outputs": [
        {
          "output_type": "stream",
          "text": [
            "155.900083325938\n"
          ],
          "name": "stdout"
        }
      ]
    },
    {
      "cell_type": "code",
      "metadata": {
        "colab": {
          "base_uri": "https://localhost:8080/"
        },
        "id": "KQJpSwifXSOg",
        "outputId": "a3e94c3b-4912-45ea-f2f5-fdd540a6004f"
      },
      "source": [
        "a = [4,3,2]\n",
        "b = [2,4,6]\n",
        "c=[2,1,3]\n",
        "stats.f_oneway(a, b, c)\n"
      ],
      "execution_count": 98,
      "outputs": [
        {
          "output_type": "execute_result",
          "data": {
            "text/plain": [
              "F_onewayResult(statistic=1.5, pvalue=0.2962962962962962)"
            ]
          },
          "metadata": {},
          "execution_count": 98
        }
      ]
    },
    {
      "cell_type": "code",
      "metadata": {
        "id": "gO0rp9NkdR0n"
      },
      "source": [
        "path = 'https://github.com/shallabhkhera/NPTEL-Data-Analytics-with-Python/blob/main/oneway.xlsx?raw=true'\n",
        "data = pd.read_excel(path)"
      ],
      "execution_count": 99,
      "outputs": []
    },
    {
      "cell_type": "code",
      "metadata": {
        "colab": {
          "base_uri": "https://localhost:8080/",
          "height": 142
        },
        "id": "LxKG6XsHh4cx",
        "outputId": "4d5bb4de-1d5d-4094-a15f-161be2a87cca"
      },
      "source": [
        "data"
      ],
      "execution_count": 100,
      "outputs": [
        {
          "output_type": "execute_result",
          "data": {
            "text/html": [
              "<div>\n",
              "<style scoped>\n",
              "    .dataframe tbody tr th:only-of-type {\n",
              "        vertical-align: middle;\n",
              "    }\n",
              "\n",
              "    .dataframe tbody tr th {\n",
              "        vertical-align: top;\n",
              "    }\n",
              "\n",
              "    .dataframe thead th {\n",
              "        text-align: right;\n",
              "    }\n",
              "</style>\n",
              "<table border=\"1\" class=\"dataframe\">\n",
              "  <thead>\n",
              "    <tr style=\"text-align: right;\">\n",
              "      <th></th>\n",
              "      <th>BlackBoard</th>\n",
              "      <th>CasePresentation</th>\n",
              "      <th>PPT</th>\n",
              "    </tr>\n",
              "  </thead>\n",
              "  <tbody>\n",
              "    <tr>\n",
              "      <th>0</th>\n",
              "      <td>4</td>\n",
              "      <td>2</td>\n",
              "      <td>2</td>\n",
              "    </tr>\n",
              "    <tr>\n",
              "      <th>1</th>\n",
              "      <td>3</td>\n",
              "      <td>4</td>\n",
              "      <td>1</td>\n",
              "    </tr>\n",
              "    <tr>\n",
              "      <th>2</th>\n",
              "      <td>2</td>\n",
              "      <td>6</td>\n",
              "      <td>3</td>\n",
              "    </tr>\n",
              "  </tbody>\n",
              "</table>\n",
              "</div>"
            ],
            "text/plain": [
              "   BlackBoard  CasePresentation  PPT\n",
              "0           4                 2    2\n",
              "1           3                 4    1\n",
              "2           2                 6    3"
            ]
          },
          "metadata": {},
          "execution_count": 100
        }
      ]
    },
    {
      "cell_type": "code",
      "metadata": {
        "colab": {
          "base_uri": "https://localhost:8080/",
          "height": 328
        },
        "id": "ZZY_bQnsh5Pw",
        "outputId": "477c8234-24b6-4610-ec36-d079c3cf12d6"
      },
      "source": [
        "data_new = pd.melt(data.reset_index(), id_vars = ['index'], value_vars=['BlackBoard', 'CasePresentation', 'PPT'])\n",
        "data_new.columns=['index', 'Treatments', 'value']\n",
        "data_new"
      ],
      "execution_count": 101,
      "outputs": [
        {
          "output_type": "execute_result",
          "data": {
            "text/html": [
              "<div>\n",
              "<style scoped>\n",
              "    .dataframe tbody tr th:only-of-type {\n",
              "        vertical-align: middle;\n",
              "    }\n",
              "\n",
              "    .dataframe tbody tr th {\n",
              "        vertical-align: top;\n",
              "    }\n",
              "\n",
              "    .dataframe thead th {\n",
              "        text-align: right;\n",
              "    }\n",
              "</style>\n",
              "<table border=\"1\" class=\"dataframe\">\n",
              "  <thead>\n",
              "    <tr style=\"text-align: right;\">\n",
              "      <th></th>\n",
              "      <th>index</th>\n",
              "      <th>Treatments</th>\n",
              "      <th>value</th>\n",
              "    </tr>\n",
              "  </thead>\n",
              "  <tbody>\n",
              "    <tr>\n",
              "      <th>0</th>\n",
              "      <td>0</td>\n",
              "      <td>BlackBoard</td>\n",
              "      <td>4</td>\n",
              "    </tr>\n",
              "    <tr>\n",
              "      <th>1</th>\n",
              "      <td>1</td>\n",
              "      <td>BlackBoard</td>\n",
              "      <td>3</td>\n",
              "    </tr>\n",
              "    <tr>\n",
              "      <th>2</th>\n",
              "      <td>2</td>\n",
              "      <td>BlackBoard</td>\n",
              "      <td>2</td>\n",
              "    </tr>\n",
              "    <tr>\n",
              "      <th>3</th>\n",
              "      <td>0</td>\n",
              "      <td>CasePresentation</td>\n",
              "      <td>2</td>\n",
              "    </tr>\n",
              "    <tr>\n",
              "      <th>4</th>\n",
              "      <td>1</td>\n",
              "      <td>CasePresentation</td>\n",
              "      <td>4</td>\n",
              "    </tr>\n",
              "    <tr>\n",
              "      <th>5</th>\n",
              "      <td>2</td>\n",
              "      <td>CasePresentation</td>\n",
              "      <td>6</td>\n",
              "    </tr>\n",
              "    <tr>\n",
              "      <th>6</th>\n",
              "      <td>0</td>\n",
              "      <td>PPT</td>\n",
              "      <td>2</td>\n",
              "    </tr>\n",
              "    <tr>\n",
              "      <th>7</th>\n",
              "      <td>1</td>\n",
              "      <td>PPT</td>\n",
              "      <td>1</td>\n",
              "    </tr>\n",
              "    <tr>\n",
              "      <th>8</th>\n",
              "      <td>2</td>\n",
              "      <td>PPT</td>\n",
              "      <td>3</td>\n",
              "    </tr>\n",
              "  </tbody>\n",
              "</table>\n",
              "</div>"
            ],
            "text/plain": [
              "   index        Treatments  value\n",
              "0      0        BlackBoard      4\n",
              "1      1        BlackBoard      3\n",
              "2      2        BlackBoard      2\n",
              "3      0  CasePresentation      2\n",
              "4      1  CasePresentation      4\n",
              "5      2  CasePresentation      6\n",
              "6      0               PPT      2\n",
              "7      1               PPT      1\n",
              "8      2               PPT      3"
            ]
          },
          "metadata": {},
          "execution_count": 101
        }
      ]
    },
    {
      "cell_type": "code",
      "metadata": {
        "colab": {
          "base_uri": "https://localhost:8080/",
          "height": 111
        },
        "id": "UIGmokjrifB_",
        "outputId": "8d601f22-9d0e-40ff-e91e-6488f4c7f13d"
      },
      "source": [
        "model=ols('value ~ C(Treatments)', data=data_new).fit()\n",
        "anova_table = sm.stats.anova_lm(model, typ=1)\n",
        "anova_table"
      ],
      "execution_count": 102,
      "outputs": [
        {
          "output_type": "execute_result",
          "data": {
            "text/html": [
              "<div>\n",
              "<style scoped>\n",
              "    .dataframe tbody tr th:only-of-type {\n",
              "        vertical-align: middle;\n",
              "    }\n",
              "\n",
              "    .dataframe tbody tr th {\n",
              "        vertical-align: top;\n",
              "    }\n",
              "\n",
              "    .dataframe thead th {\n",
              "        text-align: right;\n",
              "    }\n",
              "</style>\n",
              "<table border=\"1\" class=\"dataframe\">\n",
              "  <thead>\n",
              "    <tr style=\"text-align: right;\">\n",
              "      <th></th>\n",
              "      <th>df</th>\n",
              "      <th>sum_sq</th>\n",
              "      <th>mean_sq</th>\n",
              "      <th>F</th>\n",
              "      <th>PR(&gt;F)</th>\n",
              "    </tr>\n",
              "  </thead>\n",
              "  <tbody>\n",
              "    <tr>\n",
              "      <th>C(Treatments)</th>\n",
              "      <td>2.0</td>\n",
              "      <td>6.0</td>\n",
              "      <td>3.0</td>\n",
              "      <td>1.5</td>\n",
              "      <td>0.296296</td>\n",
              "    </tr>\n",
              "    <tr>\n",
              "      <th>Residual</th>\n",
              "      <td>6.0</td>\n",
              "      <td>12.0</td>\n",
              "      <td>2.0</td>\n",
              "      <td>NaN</td>\n",
              "      <td>NaN</td>\n",
              "    </tr>\n",
              "  </tbody>\n",
              "</table>\n",
              "</div>"
            ],
            "text/plain": [
              "                df  sum_sq  mean_sq    F    PR(>F)\n",
              "C(Treatments)  2.0     6.0      3.0  1.5  0.296296\n",
              "Residual       6.0    12.0      2.0  NaN       NaN"
            ]
          },
          "metadata": {},
          "execution_count": 102
        }
      ]
    },
    {
      "cell_type": "code",
      "metadata": {
        "id": "w2XiT_JT1quL"
      },
      "source": [
        ""
      ],
      "execution_count": 102,
      "outputs": []
    }
  ]
}