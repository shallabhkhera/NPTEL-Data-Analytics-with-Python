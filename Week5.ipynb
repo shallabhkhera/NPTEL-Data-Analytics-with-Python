{
  "nbformat": 4,
  "nbformat_minor": 0,
  "metadata": {
    "colab": {
      "name": "Week5.ipynb",
      "provenance": [],
      "collapsed_sections": [],
      "authorship_tag": "ABX9TyNeYtJOIPF9wYrupLakRXvD",
      "include_colab_link": true
    },
    "kernelspec": {
      "name": "python3",
      "display_name": "Python 3"
    },
    "language_info": {
      "name": "python"
    }
  },
  "cells": [
    {
      "cell_type": "markdown",
      "metadata": {
        "id": "view-in-github",
        "colab_type": "text"
      },
      "source": [
        "<a href=\"https://colab.research.google.com/github/shallabhkhera/NPTEL-Data-Analytics-with-Python/blob/main/Week5.ipynb\" target=\"_parent\"><img src=\"https://colab.research.google.com/assets/colab-badge.svg\" alt=\"Open In Colab\"/></a>"
      ]
    },
    {
      "cell_type": "code",
      "metadata": {
        "colab": {
          "base_uri": "https://localhost:8080/"
        },
        "id": "AwVa1T6KCWWb",
        "outputId": "ef67f6d2-c887-4461-dd97-dd7d0a6e2d00"
      },
      "source": [
        "from scipy import stats\n",
        "import numpy as np\n",
        "stats.t.ppf(.025,13)"
      ],
      "execution_count": 12,
      "outputs": [
        {
          "output_type": "execute_result",
          "data": {
            "text/plain": [
              "-2.160368656461013"
            ]
          },
          "metadata": {},
          "execution_count": 12
        }
      ]
    },
    {
      "cell_type": "code",
      "metadata": {
        "colab": {
          "base_uri": "https://localhost:8080/"
        },
        "id": "r-cnCbiICjOD",
        "outputId": "dc9de89d-c2ba-4b5e-9840-4a913faa0c61"
      },
      "source": [
        "metro=[3,7,25,10,15,6,12,25,15,7]\n",
        "rural=[48,44,40,38,33,21,20,12,1,18]\n",
        "stats.ttest_ind(metro, rural, equal_var = False)"
      ],
      "execution_count": 13,
      "outputs": [
        {
          "output_type": "execute_result",
          "data": {
            "text/plain": [
              "Ttest_indResult(statistic=-2.7669395785560558, pvalue=0.015827284816100885)"
            ]
          },
          "metadata": {},
          "execution_count": 13
        }
      ]
    },
    {
      "cell_type": "code",
      "metadata": {
        "colab": {
          "base_uri": "https://localhost:8080/"
        },
        "id": "G1p3z_dNC19d",
        "outputId": "ad16112f-9a71-483d-e258-468334624e5e"
      },
      "source": [
        "KARL=[1.186,1.151,1.322,1.339,1.200,1.402,1.365,1.537,1.559]\n",
        "LEH=[1.061,.992,1.063,1.062,1.065,1.178,1.037,1.086,1.052]\n",
        "stats.ttest_rel(KARL,LEH)"
      ],
      "execution_count": 14,
      "outputs": [
        {
          "output_type": "execute_result",
          "data": {
            "text/plain": [
              "Ttest_relResult(statistic=6.0819394375848255, pvalue=0.00029529546278604066)"
            ]
          },
          "metadata": {},
          "execution_count": 14
        }
      ]
    },
    {
      "cell_type": "code",
      "metadata": {
        "id": "h6Bj-P5EEhOV"
      },
      "source": [
        "import math\n",
        "def two_samp_proprortion(p1,p2,n1,n2):\n",
        "  p_pool = ((p1*n1)+(p2*n2))/(n1+n2)\n",
        "  x = (p_pool*(1-p_pool)*((1/n1)+(1/n2)))\n",
        "  s = math.sqrt(x)\n",
        "  z = (p1-p2)/s\n",
        "  p_val = 0\n",
        "  if(z<0):\n",
        "    p_val = stats.norm.cdf(z)\n",
        "  else:\n",
        "    p_val = 1 - stats.norm.cdf(z)\n",
        "  \n",
        "  return z,p_val*2\n"
      ],
      "execution_count": 15,
      "outputs": []
    },
    {
      "cell_type": "code",
      "metadata": {
        "colab": {
          "base_uri": "https://localhost:8080/"
        },
        "id": "22EcCpxYJwrH",
        "outputId": "d90d09a1-7eb3-4416-e76f-21c5f70368c6"
      },
      "source": [
        "two_samp_proprortion(.27,.19,100,100)"
      ],
      "execution_count": 16,
      "outputs": [
        {
          "output_type": "execute_result",
          "data": {
            "text/plain": [
              "(1.3442056254198995, 0.17888190308175567)"
            ]
          },
          "metadata": {},
          "execution_count": 16
        }
      ]
    },
    {
      "cell_type": "code",
      "metadata": {
        "colab": {
          "base_uri": "https://localhost:8080/"
        },
        "id": "JMhUu9iSJ04E",
        "outputId": "abf6b0fb-723f-4a8a-dd9d-b701055ed7d6"
      },
      "source": [
        "stats.f.ppf(q=1-0.05,dfn = 15, dfd=10)"
      ],
      "execution_count": 17,
      "outputs": [
        {
          "output_type": "execute_result",
          "data": {
            "text/plain": [
              "2.8450165269958436"
            ]
          },
          "metadata": {},
          "execution_count": 17
        }
      ]
    },
    {
      "cell_type": "code",
      "metadata": {
        "colab": {
          "base_uri": "https://localhost:8080/"
        },
        "id": "0y6__s6JPW8_",
        "outputId": "23585e0a-cf17-4df6-9f5c-9da1a670f841"
      },
      "source": [
        "stats.f.ppf(q=1-0.95,dfn = 15, dfd=10)"
      ],
      "execution_count": 18,
      "outputs": [
        {
          "output_type": "execute_result",
          "data": {
            "text/plain": [
              "0.3931252536255495"
            ]
          },
          "metadata": {},
          "execution_count": 18
        }
      ]
    },
    {
      "cell_type": "code",
      "metadata": {
        "colab": {
          "base_uri": "https://localhost:8080/"
        },
        "id": "mvj0UBVfPdlU",
        "outputId": "96625ecb-6eac-440a-9500-2336992dd063"
      },
      "source": [
        "X = [3,7,25,10,15,6,12,25,15,7]\n",
        "Y=[48,44,40,38,33,21,20,12,1,18]\n",
        "F = np.var(X)/np.var(Y)\n",
        "dfn = len(X) - 1\n",
        "dfd = len(Y) - 1\n",
        "p_value = stats.f.cdf(F,dfn,dfd)\n",
        "print(p_value)"
      ],
      "execution_count": 21,
      "outputs": [
        {
          "output_type": "stream",
          "text": [
            "0.024680183438910465\n"
          ],
          "name": "stdout"
        }
      ]
    },
    {
      "cell_type": "code",
      "metadata": {
        "id": "I1EhX40MVCFR"
      },
      "source": [
        ""
      ],
      "execution_count": null,
      "outputs": []
    }
  ]
}