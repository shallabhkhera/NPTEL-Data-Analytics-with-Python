{
  "nbformat": 4,
  "nbformat_minor": 0,
  "metadata": {
    "colab": {
      "name": "Week7_MLR.ipynb",
      "provenance": [],
      "authorship_tag": "ABX9TyNDpH1KuzpKUGee+w2WsjKO",
      "include_colab_link": true
    },
    "kernelspec": {
      "name": "python3",
      "display_name": "Python 3"
    },
    "language_info": {
      "name": "python"
    }
  },
  "cells": [
    {
      "cell_type": "markdown",
      "metadata": {
        "id": "view-in-github",
        "colab_type": "text"
      },
      "source": [
        "<a href=\"https://colab.research.google.com/github/shallabhkhera/NPTEL-Data-Analytics-with-Python/blob/main/Week7_MLR.ipynb\" target=\"_parent\"><img src=\"https://colab.research.google.com/assets/colab-badge.svg\" alt=\"Open In Colab\"/></a>"
      ]
    },
    {
      "cell_type": "code",
      "metadata": {
        "id": "vKEAE5YDuATc"
      },
      "source": [
        "import pandas as pd\n",
        "from statsmodels.formula.api import ols\n",
        "from statsmodels.stats.anova import anova_lm\n",
        "import matplotlib.pyplot as plt\n",
        "from scipy import stats\n",
        "import numpy as np\n",
        "import statsmodels.api as s\n",
        "import seaborn as sns\n",
        "from sklearn.linear_model import LinearRegression"
      ],
      "execution_count": 17,
      "outputs": []
    },
    {
      "cell_type": "code",
      "metadata": {
        "colab": {
          "base_uri": "https://localhost:8080/",
          "height": 359
        },
        "id": "T1izwvBkuXaw",
        "outputId": "3cf683ca-a0c2-406c-d1fd-1f2b1a5157fd"
      },
      "source": [
        "df1 = pd.read_excel('https://github.com/shallabhkhera/NPTEL-Data-Analytics-with-Python/blob/main/TRUCKING.xlsx?raw=true')\n",
        "df1"
      ],
      "execution_count": 18,
      "outputs": [
        {
          "output_type": "execute_result",
          "data": {
            "text/html": [
              "<div>\n",
              "<style scoped>\n",
              "    .dataframe tbody tr th:only-of-type {\n",
              "        vertical-align: middle;\n",
              "    }\n",
              "\n",
              "    .dataframe tbody tr th {\n",
              "        vertical-align: top;\n",
              "    }\n",
              "\n",
              "    .dataframe thead th {\n",
              "        text-align: right;\n",
              "    }\n",
              "</style>\n",
              "<table border=\"1\" class=\"dataframe\">\n",
              "  <thead>\n",
              "    <tr style=\"text-align: right;\">\n",
              "      <th></th>\n",
              "      <th>Driving Assignmnet</th>\n",
              "      <th>x1</th>\n",
              "      <th>n_of_deliveries</th>\n",
              "      <th>travel_time</th>\n",
              "    </tr>\n",
              "  </thead>\n",
              "  <tbody>\n",
              "    <tr>\n",
              "      <th>0</th>\n",
              "      <td>1</td>\n",
              "      <td>100</td>\n",
              "      <td>4</td>\n",
              "      <td>9.3</td>\n",
              "    </tr>\n",
              "    <tr>\n",
              "      <th>1</th>\n",
              "      <td>2</td>\n",
              "      <td>50</td>\n",
              "      <td>3</td>\n",
              "      <td>4.8</td>\n",
              "    </tr>\n",
              "    <tr>\n",
              "      <th>2</th>\n",
              "      <td>3</td>\n",
              "      <td>100</td>\n",
              "      <td>4</td>\n",
              "      <td>8.9</td>\n",
              "    </tr>\n",
              "    <tr>\n",
              "      <th>3</th>\n",
              "      <td>4</td>\n",
              "      <td>100</td>\n",
              "      <td>2</td>\n",
              "      <td>6.5</td>\n",
              "    </tr>\n",
              "    <tr>\n",
              "      <th>4</th>\n",
              "      <td>5</td>\n",
              "      <td>50</td>\n",
              "      <td>2</td>\n",
              "      <td>4.2</td>\n",
              "    </tr>\n",
              "    <tr>\n",
              "      <th>5</th>\n",
              "      <td>6</td>\n",
              "      <td>80</td>\n",
              "      <td>2</td>\n",
              "      <td>6.2</td>\n",
              "    </tr>\n",
              "    <tr>\n",
              "      <th>6</th>\n",
              "      <td>7</td>\n",
              "      <td>75</td>\n",
              "      <td>3</td>\n",
              "      <td>7.4</td>\n",
              "    </tr>\n",
              "    <tr>\n",
              "      <th>7</th>\n",
              "      <td>8</td>\n",
              "      <td>65</td>\n",
              "      <td>4</td>\n",
              "      <td>6.0</td>\n",
              "    </tr>\n",
              "    <tr>\n",
              "      <th>8</th>\n",
              "      <td>9</td>\n",
              "      <td>90</td>\n",
              "      <td>3</td>\n",
              "      <td>7.6</td>\n",
              "    </tr>\n",
              "    <tr>\n",
              "      <th>9</th>\n",
              "      <td>10</td>\n",
              "      <td>90</td>\n",
              "      <td>2</td>\n",
              "      <td>6.1</td>\n",
              "    </tr>\n",
              "  </tbody>\n",
              "</table>\n",
              "</div>"
            ],
            "text/plain": [
              "   Driving Assignmnet   x1  n_of_deliveries  travel_time\n",
              "0                   1  100                4          9.3\n",
              "1                   2   50                3          4.8\n",
              "2                   3  100                4          8.9\n",
              "3                   4  100                2          6.5\n",
              "4                   5   50                2          4.2\n",
              "5                   6   80                2          6.2\n",
              "6                   7   75                3          7.4\n",
              "7                   8   65                4          6.0\n",
              "8                   9   90                3          7.6\n",
              "9                  10   90                2          6.1"
            ]
          },
          "metadata": {},
          "execution_count": 18
        }
      ]
    },
    {
      "cell_type": "code",
      "metadata": {
        "colab": {
          "base_uri": "https://localhost:8080/",
          "height": 298
        },
        "id": "XjWtCV7_upXN",
        "outputId": "ace174dc-17cc-4d5a-bcf3-0284189e1e9d"
      },
      "source": [
        "import matplotlib.pyplot as plt\n",
        "plt.scatter(df1['x1'], df1['travel_time'], color=\"green\")\n",
        "plt.ylabel(\"Travel Time\")\n",
        "plt.title(\"Simple linear regression\")"
      ],
      "execution_count": 19,
      "outputs": [
        {
          "output_type": "execute_result",
          "data": {
            "text/plain": [
              "Text(0.5, 1.0, 'Simple linear regression')"
            ]
          },
          "metadata": {},
          "execution_count": 19
        },
        {
          "output_type": "display_data",
          "data": {
            "image/png": "[encoded data removed]",
            "text/plain": [
              "<Figure size 432x288 with 1 Axes>"
            ]
          },
          "metadata": {
            "needs_background": "light"
          }
        }
      ]
    },
    {
      "cell_type": "code",
      "metadata": {
        "colab": {
          "base_uri": "https://localhost:8080/",
          "height": 298
        },
        "id": "b0ScBgfOvSiV",
        "outputId": "fa9df31f-dd40-4d1d-937b-0d7cb1c1dce8"
      },
      "source": [
        "plt.scatter(df1['n_of_deliveries'], df1['travel_time'], color=\"red\")\n",
        "plt.ylabel(\"Travel Time\")\n",
        "plt.title(\"Simple linear regression\")"
      ],
      "execution_count": 20,
      "outputs": [
        {
          "output_type": "execute_result",
          "data": {
            "text/plain": [
              "Text(0.5, 1.0, 'Simple linear regression')"
            ]
          },
          "metadata": {},
          "execution_count": 20
        },
        {
          "output_type": "display_data",
          "data": {
            "image/png": "[encoded data removed]",
            "text/plain": [
              "<Figure size 432x288 with 1 Axes>"
            ]
          },
          "metadata": {
            "needs_background": "light"
          }
        }
      ]
    },
    {
      "cell_type": "code",
      "metadata": {
        "colab": {
          "base_uri": "https://localhost:8080/",
          "height": 312
        },
        "id": "ADlELVWDvcrF",
        "outputId": "f42e0ca7-edac-4afc-84a8-2d81ceab9d5e"
      },
      "source": [
        "plt.figure()\n",
        "plt.scatter(df1['x1'], df1['travel_time'], color=\"green\")\n",
        "plt.scatter(df1['n_of_deliveries'], df1['travel_time'], color=\"red\")\n",
        "plt.ylabel(\"Travel Time\")\n",
        "plt.title(\"Multiple Regression\")\n",
        "plt.xlabel(\"x1 in green and x2 in red\")"
      ],
      "execution_count": 21,
      "outputs": [
        {
          "output_type": "execute_result",
          "data": {
            "text/plain": [
              "Text(0.5, 0, 'x1 in green and x2 in red')"
            ]
          },
          "metadata": {},
          "execution_count": 21
        },
        {
          "output_type": "display_data",
          "data": {
            "image/png": "[encoded data removed]",
            "text/plain": [
              "<Figure size 432x288 with 1 Axes>"
            ]
          },
          "metadata": {
            "needs_background": "light"
          }
        }
      ]
    },
    {
      "cell_type": "code",
      "metadata": {
        "colab": {
          "base_uri": "https://localhost:8080/"
        },
        "id": "04199J5dvwQG",
        "outputId": "c69057c4-ebfc-4daf-c30b-106fc3315d96"
      },
      "source": [
        "Reg1 = ols(formula = \"travel_time ~ x1\", data = df1)\n",
        "Fit1 = Reg1.fit()\n",
        "print(Fit1.summary())"
      ],
      "execution_count": 22,
      "outputs": [
        {
          "output_type": "stream",
          "text": [
            "                            OLS Regression Results                            \n",
            "==============================================================================\n",
            "Dep. Variable:            travel_time   R-squared:                       0.664\n",
            "Model:                            OLS   Adj. R-squared:                  0.622\n",
            "Method:                 Least Squares   F-statistic:                     15.81\n",
            "Date:                Sat, 21 Aug 2021   Prob (F-statistic):            0.00408\n",
            "Time:                        06:09:50   Log-Likelihood:                -13.092\n",
            "No. Observations:                  10   AIC:                             30.18\n",
            "Df Residuals:                       8   BIC:                             30.79\n",
            "Df Model:                           1                                         \n",
            "Covariance Type:            nonrobust                                         \n",
            "==============================================================================\n",
            "                 coef    std err          t      P>|t|      [0.025      0.975]\n",
            "------------------------------------------------------------------------------\n",
            "Intercept      1.2739      1.401      0.909      0.390      -1.956       4.504\n",
            "x1             0.0678      0.017      3.977      0.004       0.028       0.107\n",
            "==============================================================================\n",
            "Omnibus:                        0.694   Durbin-Watson:                   1.723\n",
            "Prob(Omnibus):                  0.707   Jarque-Bera (JB):                0.623\n",
            "Skew:                          -0.333   Prob(JB):                        0.732\n",
            "Kurtosis:                       1.974   Cond. No.                         363.\n",
            "==============================================================================\n",
            "\n",
            "Warnings:\n",
            "[1] Standard Errors assume that the covariance matrix of the errors is correctly specified.\n"
          ],
          "name": "stdout"
        },
        {
          "output_type": "stream",
          "text": [
            "/usr/local/lib/python3.7/dist-packages/scipy/stats/stats.py:1535: UserWarning: kurtosistest only valid for n>=20 ... continuing anyway, n=10\n",
            "  \"anyway, n=%i\" % int(n))\n"
          ],
          "name": "stderr"
        }
      ]
    },
    {
      "cell_type": "code",
      "metadata": {
        "id": "knv06Y5_wEN-"
      },
      "source": [
        ""
      ],
      "execution_count": 22,
      "outputs": []
    },
    {
      "cell_type": "code",
      "metadata": {
        "colab": {
          "base_uri": "https://localhost:8080/"
        },
        "id": "TlP5lnOBwNb-",
        "outputId": "038f0190-ee7c-4e30-ce76-a4b90fbe86ed"
      },
      "source": [
        "model = ols(formula = \"travel_time ~ x1+n_of_deliveries\", data = df1).fit()\n",
        "print(model.summary())"
      ],
      "execution_count": 23,
      "outputs": [
        {
          "output_type": "stream",
          "text": [
            "                            OLS Regression Results                            \n",
            "==============================================================================\n",
            "Dep. Variable:            travel_time   R-squared:                       0.904\n",
            "Model:                            OLS   Adj. R-squared:                  0.876\n",
            "Method:                 Least Squares   F-statistic:                     32.88\n",
            "Date:                Sat, 21 Aug 2021   Prob (F-statistic):           0.000276\n",
            "Time:                        06:09:50   Log-Likelihood:                -6.8398\n",
            "No. Observations:                  10   AIC:                             19.68\n",
            "Df Residuals:                       7   BIC:                             20.59\n",
            "Df Model:                           2                                         \n",
            "Covariance Type:            nonrobust                                         \n",
            "===================================================================================\n",
            "                      coef    std err          t      P>|t|      [0.025      0.975]\n",
            "-----------------------------------------------------------------------------------\n",
            "Intercept          -0.8687      0.952     -0.913      0.392      -3.119       1.381\n",
            "x1                  0.0611      0.010      6.182      0.000       0.038       0.085\n",
            "n_of_deliveries     0.9234      0.221      4.176      0.004       0.401       1.446\n",
            "==============================================================================\n",
            "Omnibus:                        0.039   Durbin-Watson:                   2.515\n",
            "Prob(Omnibus):                  0.981   Jarque-Bera (JB):                0.151\n",
            "Skew:                           0.074   Prob(JB):                        0.927\n",
            "Kurtosis:                       2.418   Cond. No.                         435.\n",
            "==============================================================================\n",
            "\n",
            "Warnings:\n",
            "[1] Standard Errors assume that the covariance matrix of the errors is correctly specified.\n"
          ],
          "name": "stdout"
        },
        {
          "output_type": "stream",
          "text": [
            "/usr/local/lib/python3.7/dist-packages/scipy/stats/stats.py:1535: UserWarning: kurtosistest only valid for n>=20 ... continuing anyway, n=10\n",
            "  \"anyway, n=%i\" % int(n))\n"
          ],
          "name": "stderr"
        }
      ]
    },
    {
      "cell_type": "code",
      "metadata": {
        "colab": {
          "base_uri": "https://localhost:8080/"
        },
        "id": "lEVEl7Qswu_9",
        "outputId": "a76fbb85-57bd-401c-a281-bdba95ccc530"
      },
      "source": [
        "print(anova_lm(Fit1))"
      ],
      "execution_count": 24,
      "outputs": [
        {
          "output_type": "stream",
          "text": [
            "           df     sum_sq    mean_sq          F   PR(>F)\n",
            "x1        1.0  15.871304  15.871304  15.814578  0.00408\n",
            "Residual  8.0   8.028696   1.003587        NaN      NaN\n"
          ],
          "name": "stdout"
        }
      ]
    },
    {
      "cell_type": "code",
      "metadata": {
        "colab": {
          "base_uri": "https://localhost:8080/"
        },
        "id": "w94N2rqZxlyG",
        "outputId": "cdd02444-f263-4c50-d445-1c8b2beba1bf"
      },
      "source": [
        "print(anova_lm(model, typ=1))"
      ],
      "execution_count": 25,
      "outputs": [
        {
          "output_type": "stream",
          "text": [
            "                  df     sum_sq    mean_sq          F    PR(>F)\n",
            "x1               1.0  15.871304  15.871304  48.315660  0.000221\n",
            "n_of_deliveries  1.0   5.729252   5.729252  17.441075  0.004157\n",
            "Residual         7.0   2.299443   0.328492        NaN       NaN\n"
          ],
          "name": "stdout"
        }
      ]
    },
    {
      "cell_type": "code",
      "metadata": {
        "colab": {
          "base_uri": "https://localhost:8080/",
          "height": 359
        },
        "id": "_XpDZ2pKx1Pd",
        "outputId": "320feb08-2291-420e-f8da-57407c6f7c55"
      },
      "source": [
        "df2 = pd.read_excel('https://github.com/shallabhkhera/NPTEL-Data-Analytics-with-Python/blob/main/dummy.xlsx?raw=true')\n",
        "df2"
      ],
      "execution_count": 26,
      "outputs": [
        {
          "output_type": "execute_result",
          "data": {
            "text/html": [
              "<div>\n",
              "<style scoped>\n",
              "    .dataframe tbody tr th:only-of-type {\n",
              "        vertical-align: middle;\n",
              "    }\n",
              "\n",
              "    .dataframe tbody tr th {\n",
              "        vertical-align: top;\n",
              "    }\n",
              "\n",
              "    .dataframe thead th {\n",
              "        text-align: right;\n",
              "    }\n",
              "</style>\n",
              "<table border=\"1\" class=\"dataframe\">\n",
              "  <thead>\n",
              "    <tr style=\"text-align: right;\">\n",
              "      <th></th>\n",
              "      <th>servicecall</th>\n",
              "      <th>months_since_last_service</th>\n",
              "      <th>type_of_repair</th>\n",
              "      <th>repair_time_in_hours</th>\n",
              "    </tr>\n",
              "  </thead>\n",
              "  <tbody>\n",
              "    <tr>\n",
              "      <th>0</th>\n",
              "      <td>1</td>\n",
              "      <td>2</td>\n",
              "      <td>electrical</td>\n",
              "      <td>2.9</td>\n",
              "    </tr>\n",
              "    <tr>\n",
              "      <th>1</th>\n",
              "      <td>2</td>\n",
              "      <td>6</td>\n",
              "      <td>mechanical</td>\n",
              "      <td>3.0</td>\n",
              "    </tr>\n",
              "    <tr>\n",
              "      <th>2</th>\n",
              "      <td>3</td>\n",
              "      <td>8</td>\n",
              "      <td>electrical</td>\n",
              "      <td>4.8</td>\n",
              "    </tr>\n",
              "    <tr>\n",
              "      <th>3</th>\n",
              "      <td>4</td>\n",
              "      <td>3</td>\n",
              "      <td>mechanical</td>\n",
              "      <td>1.8</td>\n",
              "    </tr>\n",
              "    <tr>\n",
              "      <th>4</th>\n",
              "      <td>5</td>\n",
              "      <td>2</td>\n",
              "      <td>electrical</td>\n",
              "      <td>2.9</td>\n",
              "    </tr>\n",
              "    <tr>\n",
              "      <th>5</th>\n",
              "      <td>6</td>\n",
              "      <td>7</td>\n",
              "      <td>electrical</td>\n",
              "      <td>4.9</td>\n",
              "    </tr>\n",
              "    <tr>\n",
              "      <th>6</th>\n",
              "      <td>7</td>\n",
              "      <td>9</td>\n",
              "      <td>mechanical</td>\n",
              "      <td>4.2</td>\n",
              "    </tr>\n",
              "    <tr>\n",
              "      <th>7</th>\n",
              "      <td>8</td>\n",
              "      <td>8</td>\n",
              "      <td>mechanical</td>\n",
              "      <td>4.8</td>\n",
              "    </tr>\n",
              "    <tr>\n",
              "      <th>8</th>\n",
              "      <td>9</td>\n",
              "      <td>4</td>\n",
              "      <td>electrical</td>\n",
              "      <td>4.4</td>\n",
              "    </tr>\n",
              "    <tr>\n",
              "      <th>9</th>\n",
              "      <td>10</td>\n",
              "      <td>6</td>\n",
              "      <td>electrical</td>\n",
              "      <td>4.5</td>\n",
              "    </tr>\n",
              "  </tbody>\n",
              "</table>\n",
              "</div>"
            ],
            "text/plain": [
              "   servicecall  months_since_last_service type_of_repair  repair_time_in_hours\n",
              "0            1                          2     electrical                   2.9\n",
              "1            2                          6     mechanical                   3.0\n",
              "2            3                          8     electrical                   4.8\n",
              "3            4                          3     mechanical                   1.8\n",
              "4            5                          2     electrical                   2.9\n",
              "5            6                          7     electrical                   4.9\n",
              "6            7                          9     mechanical                   4.2\n",
              "7            8                          8     mechanical                   4.8\n",
              "8            9                          4     electrical                   4.4\n",
              "9           10                          6     electrical                   4.5"
            ]
          },
          "metadata": {},
          "execution_count": 26
        }
      ]
    },
    {
      "cell_type": "code",
      "metadata": {
        "colab": {
          "base_uri": "https://localhost:8080/",
          "height": 359
        },
        "id": "Wq0JyhlLfMtk",
        "outputId": "8dd88e92-e80e-4fe6-a047-0c6fc333042f"
      },
      "source": [
        "#Reg = ols(formula=\"repair_time_in_hours ~ months_since_last_service\")\n",
        "just_dummies2 = pd.get_dummies(df2['type_of_repair'])\n",
        "just_dummies2"
      ],
      "execution_count": 27,
      "outputs": [
        {
          "output_type": "execute_result",
          "data": {
            "text/html": [
              "<div>\n",
              "<style scoped>\n",
              "    .dataframe tbody tr th:only-of-type {\n",
              "        vertical-align: middle;\n",
              "    }\n",
              "\n",
              "    .dataframe tbody tr th {\n",
              "        vertical-align: top;\n",
              "    }\n",
              "\n",
              "    .dataframe thead th {\n",
              "        text-align: right;\n",
              "    }\n",
              "</style>\n",
              "<table border=\"1\" class=\"dataframe\">\n",
              "  <thead>\n",
              "    <tr style=\"text-align: right;\">\n",
              "      <th></th>\n",
              "      <th>electrical</th>\n",
              "      <th>mechanical</th>\n",
              "    </tr>\n",
              "  </thead>\n",
              "  <tbody>\n",
              "    <tr>\n",
              "      <th>0</th>\n",
              "      <td>1</td>\n",
              "      <td>0</td>\n",
              "    </tr>\n",
              "    <tr>\n",
              "      <th>1</th>\n",
              "      <td>0</td>\n",
              "      <td>1</td>\n",
              "    </tr>\n",
              "    <tr>\n",
              "      <th>2</th>\n",
              "      <td>1</td>\n",
              "      <td>0</td>\n",
              "    </tr>\n",
              "    <tr>\n",
              "      <th>3</th>\n",
              "      <td>0</td>\n",
              "      <td>1</td>\n",
              "    </tr>\n",
              "    <tr>\n",
              "      <th>4</th>\n",
              "      <td>1</td>\n",
              "      <td>0</td>\n",
              "    </tr>\n",
              "    <tr>\n",
              "      <th>5</th>\n",
              "      <td>1</td>\n",
              "      <td>0</td>\n",
              "    </tr>\n",
              "    <tr>\n",
              "      <th>6</th>\n",
              "      <td>0</td>\n",
              "      <td>1</td>\n",
              "    </tr>\n",
              "    <tr>\n",
              "      <th>7</th>\n",
              "      <td>0</td>\n",
              "      <td>1</td>\n",
              "    </tr>\n",
              "    <tr>\n",
              "      <th>8</th>\n",
              "      <td>1</td>\n",
              "      <td>0</td>\n",
              "    </tr>\n",
              "    <tr>\n",
              "      <th>9</th>\n",
              "      <td>1</td>\n",
              "      <td>0</td>\n",
              "    </tr>\n",
              "  </tbody>\n",
              "</table>\n",
              "</div>"
            ],
            "text/plain": [
              "   electrical  mechanical\n",
              "0           1           0\n",
              "1           0           1\n",
              "2           1           0\n",
              "3           0           1\n",
              "4           1           0\n",
              "5           1           0\n",
              "6           0           1\n",
              "7           0           1\n",
              "8           1           0\n",
              "9           1           0"
            ]
          },
          "metadata": {},
          "execution_count": 27
        }
      ]
    },
    {
      "cell_type": "code",
      "metadata": {
        "colab": {
          "base_uri": "https://localhost:8080/",
          "height": 359
        },
        "id": "fYbmr2OozEn3",
        "outputId": "d0fcf100-0ae5-4222-fed7-8c7e1a643c3b"
      },
      "source": [
        "step1 = pd.concat([df2, just_dummies2], axis=1)\n",
        "step1.drop(['type_of_repair', 'mechanical'], inplace=True, axis=1)\n",
        "step1\n"
      ],
      "execution_count": 29,
      "outputs": [
        {
          "output_type": "execute_result",
          "data": {
            "text/html": [
              "<div>\n",
              "<style scoped>\n",
              "    .dataframe tbody tr th:only-of-type {\n",
              "        vertical-align: middle;\n",
              "    }\n",
              "\n",
              "    .dataframe tbody tr th {\n",
              "        vertical-align: top;\n",
              "    }\n",
              "\n",
              "    .dataframe thead th {\n",
              "        text-align: right;\n",
              "    }\n",
              "</style>\n",
              "<table border=\"1\" class=\"dataframe\">\n",
              "  <thead>\n",
              "    <tr style=\"text-align: right;\">\n",
              "      <th></th>\n",
              "      <th>servicecall</th>\n",
              "      <th>months_since_last_service</th>\n",
              "      <th>repair_time_in_hours</th>\n",
              "      <th>electrical</th>\n",
              "    </tr>\n",
              "  </thead>\n",
              "  <tbody>\n",
              "    <tr>\n",
              "      <th>0</th>\n",
              "      <td>1</td>\n",
              "      <td>2</td>\n",
              "      <td>2.9</td>\n",
              "      <td>1</td>\n",
              "    </tr>\n",
              "    <tr>\n",
              "      <th>1</th>\n",
              "      <td>2</td>\n",
              "      <td>6</td>\n",
              "      <td>3.0</td>\n",
              "      <td>0</td>\n",
              "    </tr>\n",
              "    <tr>\n",
              "      <th>2</th>\n",
              "      <td>3</td>\n",
              "      <td>8</td>\n",
              "      <td>4.8</td>\n",
              "      <td>1</td>\n",
              "    </tr>\n",
              "    <tr>\n",
              "      <th>3</th>\n",
              "      <td>4</td>\n",
              "      <td>3</td>\n",
              "      <td>1.8</td>\n",
              "      <td>0</td>\n",
              "    </tr>\n",
              "    <tr>\n",
              "      <th>4</th>\n",
              "      <td>5</td>\n",
              "      <td>2</td>\n",
              "      <td>2.9</td>\n",
              "      <td>1</td>\n",
              "    </tr>\n",
              "    <tr>\n",
              "      <th>5</th>\n",
              "      <td>6</td>\n",
              "      <td>7</td>\n",
              "      <td>4.9</td>\n",
              "      <td>1</td>\n",
              "    </tr>\n",
              "    <tr>\n",
              "      <th>6</th>\n",
              "      <td>7</td>\n",
              "      <td>9</td>\n",
              "      <td>4.2</td>\n",
              "      <td>0</td>\n",
              "    </tr>\n",
              "    <tr>\n",
              "      <th>7</th>\n",
              "      <td>8</td>\n",
              "      <td>8</td>\n",
              "      <td>4.8</td>\n",
              "      <td>0</td>\n",
              "    </tr>\n",
              "    <tr>\n",
              "      <th>8</th>\n",
              "      <td>9</td>\n",
              "      <td>4</td>\n",
              "      <td>4.4</td>\n",
              "      <td>1</td>\n",
              "    </tr>\n",
              "    <tr>\n",
              "      <th>9</th>\n",
              "      <td>10</td>\n",
              "      <td>6</td>\n",
              "      <td>4.5</td>\n",
              "      <td>1</td>\n",
              "    </tr>\n",
              "  </tbody>\n",
              "</table>\n",
              "</div>"
            ],
            "text/plain": [
              "   servicecall  months_since_last_service  repair_time_in_hours  electrical\n",
              "0            1                          2                   2.9           1\n",
              "1            2                          6                   3.0           0\n",
              "2            3                          8                   4.8           1\n",
              "3            4                          3                   1.8           0\n",
              "4            5                          2                   2.9           1\n",
              "5            6                          7                   4.9           1\n",
              "6            7                          9                   4.2           0\n",
              "7            8                          8                   4.8           0\n",
              "8            9                          4                   4.4           1\n",
              "9           10                          6                   4.5           1"
            ]
          },
          "metadata": {},
          "execution_count": 29
        }
      ]
    },
    {
      "cell_type": "code",
      "metadata": {
        "colab": {
          "base_uri": "https://localhost:8080/"
        },
        "id": "zYGMwOrwzlh-",
        "outputId": "6f3c41b7-f334-41a4-8990-6df72a144e33"
      },
      "source": [
        "result = ols(formula = \"repair_time_in_hours ~ months_since_last_service+electrical\", data = step1).fit()\n",
        "print(result.summary())\n",
        "#result = ols(step1['repair_time_in_hours'], s.add_constant(step1[['months_since_last_service', 'electrical' ]])).fit()"
      ],
      "execution_count": 36,
      "outputs": [
        {
          "output_type": "stream",
          "text": [
            "                             OLS Regression Results                             \n",
            "================================================================================\n",
            "Dep. Variable:     repair_time_in_hours   R-squared:                       0.859\n",
            "Model:                              OLS   Adj. R-squared:                  0.819\n",
            "Method:                   Least Squares   F-statistic:                     21.36\n",
            "Date:                  Sat, 21 Aug 2021   Prob (F-statistic):            0.00105\n",
            "Time:                          08:35:16   Log-Likelihood:                -4.6200\n",
            "No. Observations:                    10   AIC:                             15.24\n",
            "Df Residuals:                         7   BIC:                             16.15\n",
            "Df Model:                             2                                         \n",
            "Covariance Type:              nonrobust                                         \n",
            "=============================================================================================\n",
            "                                coef    std err          t      P>|t|      [0.025      0.975]\n",
            "---------------------------------------------------------------------------------------------\n",
            "Intercept                     0.9305      0.467      1.993      0.087      -0.174       2.035\n",
            "months_since_last_service     0.3876      0.063      6.195      0.000       0.240       0.536\n",
            "electrical                    1.2627      0.314      4.020      0.005       0.520       2.005\n",
            "==============================================================================\n",
            "Omnibus:                        3.357   Durbin-Watson:                   1.136\n",
            "Prob(Omnibus):                  0.187   Jarque-Bera (JB):                1.663\n",
            "Skew:                           0.994   Prob(JB):                        0.435\n",
            "Kurtosis:                       2.795   Cond. No.                         22.0\n",
            "==============================================================================\n",
            "\n",
            "Warnings:\n",
            "[1] Standard Errors assume that the covariance matrix of the errors is correctly specified.\n"
          ],
          "name": "stdout"
        },
        {
          "output_type": "stream",
          "text": [
            "/usr/local/lib/python3.7/dist-packages/scipy/stats/stats.py:1535: UserWarning: kurtosistest only valid for n>=20 ... continuing anyway, n=10\n",
            "  \"anyway, n=%i\" % int(n))\n"
          ],
          "name": "stderr"
        }
      ]
    },
    {
      "cell_type": "code",
      "metadata": {
        "id": "Da1uk7o71vTv"
      },
      "source": [
        ""
      ],
      "execution_count": null,
      "outputs": []
    }
  ]
}