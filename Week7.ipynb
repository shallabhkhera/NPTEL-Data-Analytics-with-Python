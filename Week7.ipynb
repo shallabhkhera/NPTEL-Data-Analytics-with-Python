{
  "nbformat": 4,
  "nbformat_minor": 0,
  "metadata": {
    "colab": {
      "name": "Week7.ipynb",
      "provenance": [],
      "authorship_tag": "ABX9TyPBRlNSvmgjV09abkhJkbPK",
      "include_colab_link": true
    },
    "kernelspec": {
      "name": "python3",
      "display_name": "Python 3"
    },
    "language_info": {
      "name": "python"
    }
  },
  "cells": [
    {
      "cell_type": "markdown",
      "metadata": {
        "id": "view-in-github",
        "colab_type": "text"
      },
      "source": [
        "<a href=\"https://colab.research.google.com/github/shallabhkhera/NPTEL-Data-Analytics-with-Python/blob/main/Week7.ipynb\" target=\"_parent\"><img src=\"https://colab.research.google.com/assets/colab-badge.svg\" alt=\"Open In Colab\"/></a>"
      ]
    },
    {
      "cell_type": "code",
      "metadata": {
        "colab": {
          "base_uri": "https://localhost:8080/"
        },
        "id": "bVmG-mMMO76P",
        "outputId": "8ba297b8-de73-4e58-aa6b-969afa791d30"
      },
      "source": [
        "import pandas as pd\n",
        "from scipy import stats\n",
        "import matplotlib as mpl\n",
        "from matplotlib import pyplot as plt\n",
        "import seaborn as sns\n",
        "import numpy as np\n",
        "import statsmodels.formula.api as sm\n",
        "from statsmodels.stats.anova import anova_lm\n",
        "from sklearn.linear_model import LinearRegression\n",
        "from sklearn import linear_model\n",
        "from sklearn.metrics import mean_squared_error\n",
        "\n",
        "\n",
        "tbl_icecream = 'https://github.com/shallabhkhera/NPTEL-Data-Analytics-with-Python/blob/main/lrm.xlsx?raw=true'\n",
        "tbl_icecream = pd.read_excel(tbl_icecream)\n",
        "print(tbl_icecream)"
      ],
      "execution_count": 75,
      "outputs": [
        {
          "output_type": "stream",
          "text": [
            "   Restaurant  Student_Population  Sales\n",
            "0           1                   2     58\n",
            "1           2                   6    105\n",
            "2           3                   8     88\n",
            "3           4                   8    118\n",
            "4           5                  12    117\n",
            "5           6                  16    137\n",
            "6           7                  20    157\n",
            "7           8                  20    169\n",
            "8           9                  22    149\n",
            "9          10                  26    202\n"
          ],
          "name": "stdout"
        }
      ]
    },
    {
      "cell_type": "code",
      "metadata": {
        "colab": {
          "base_uri": "https://localhost:8080/",
          "height": 296
        },
        "id": "tcMf0lgKPFnq",
        "outputId": "37f7e96d-a880-4069-a4e0-7380a1be1477"
      },
      "source": [
        "tbl_icecream.plot('Student_Population', 'Sales', style='o')\n",
        "plt.ylabel('Ice Cream Sales')\n",
        "plt.title('Sales in')\n",
        "plt.show()\n"
      ],
      "execution_count": 76,
      "outputs": [
        {
          "output_type": "display_data",
          "data": {
            "image/png": "[encoded data removed]",
            "text/plain": [
              "<Figure size 432x288 with 1 Axes>"
            ]
          },
          "metadata": {
            "needs_background": "light"
          }
        }
      ]
    },
    {
      "cell_type": "code",
      "metadata": {
        "colab": {
          "base_uri": "https://localhost:8080/",
          "height": 793
        },
        "id": "KcMiRuf_PU0m",
        "outputId": "b539f8ee-b69e-4e33-ad29-28675da0ae8e"
      },
      "source": [
        "t = tbl_icecream['Student_Population']\n",
        "c = tbl_icecream['Sales']\n",
        "plt.figure()\n",
        "sns.regplot(t,c,fit_reg = True)\n",
        "plt.scatter(np.mean(t), np.mean(c), color=\"green\")\n",
        "\n",
        "import statsmodels.api as s\n",
        "t = s.add_constant(t)\n",
        "model1 = s.OLS(c, t)\n",
        "result1 = model1.fit()\n",
        "print(result1.summary())"
      ],
      "execution_count": 77,
      "outputs": [
        {
          "output_type": "stream",
          "text": [
            "/usr/local/lib/python3.7/dist-packages/seaborn/_decorators.py:43: FutureWarning: Pass the following variables as keyword args: x, y. From version 0.12, the only valid positional argument will be `data`, and passing other arguments without an explicit keyword will result in an error or misinterpretation.\n",
            "  FutureWarning\n",
            "/usr/local/lib/python3.7/dist-packages/scipy/stats/stats.py:1535: UserWarning: kurtosistest only valid for n>=20 ... continuing anyway, n=10\n",
            "  \"anyway, n=%i\" % int(n))\n"
          ],
          "name": "stderr"
        },
        {
          "output_type": "stream",
          "text": [
            "                            OLS Regression Results                            \n",
            "==============================================================================\n",
            "Dep. Variable:                  Sales   R-squared:                       0.903\n",
            "Model:                            OLS   Adj. R-squared:                  0.891\n",
            "Method:                 Least Squares   F-statistic:                     74.25\n",
            "Date:                Sat, 21 Aug 2021   Prob (F-statistic):           2.55e-05\n",
            "Time:                        01:55:06   Log-Likelihood:                -39.342\n",
            "No. Observations:                  10   AIC:                             82.68\n",
            "Df Residuals:                       8   BIC:                             83.29\n",
            "Df Model:                           1                                         \n",
            "Covariance Type:            nonrobust                                         \n",
            "======================================================================================\n",
            "                         coef    std err          t      P>|t|      [0.025      0.975]\n",
            "--------------------------------------------------------------------------------------\n",
            "const                 60.0000      9.226      6.503      0.000      38.725      81.275\n",
            "Student_Population     5.0000      0.580      8.617      0.000       3.662       6.338\n",
            "==============================================================================\n",
            "Omnibus:                        0.928   Durbin-Watson:                   3.224\n",
            "Prob(Omnibus):                  0.629   Jarque-Bera (JB):                0.616\n",
            "Skew:                          -0.060   Prob(JB):                        0.735\n",
            "Kurtosis:                       1.790   Cond. No.                         33.6\n",
            "==============================================================================\n",
            "\n",
            "Warnings:\n",
            "[1] Standard Errors assume that the covariance matrix of the errors is correctly specified.\n"
          ],
          "name": "stdout"
        },
        {
          "output_type": "display_data",
          "data": {
            "image/png": "[encoded data removed]",
            "text/plain": [
              "<Figure size 432x288 with 1 Axes>"
            ]
          },
          "metadata": {
            "needs_background": "light"
          }
        }
      ]
    },
    {
      "cell_type": "code",
      "metadata": {
        "colab": {
          "base_uri": "https://localhost:8080/"
        },
        "id": "P5xEqBtuQdfD",
        "outputId": "c4fa70cf-726e-4325-e636-68c92de838f8"
      },
      "source": [
        "from sklearn.linear_model import LinearRegression\n",
        "x = tbl_icecream['Student_Population'].values.reshape(-1,1)\n",
        "y = tbl_icecream['Sales'].values.reshape(-1,1)\n",
        "\n",
        "reg = LinearRegression()\n",
        "reg.fit(x,y)\n",
        "\n",
        "reg.intercept_[0], reg.coef_[0][0]"
      ],
      "execution_count": 78,
      "outputs": [
        {
          "output_type": "execute_result",
          "data": {
            "text/plain": [
              "(60.0, 5.0)"
            ]
          },
          "metadata": {},
          "execution_count": 78
        }
      ]
    },
    {
      "cell_type": "code",
      "metadata": {
        "id": "P-NIxI2KRVbK"
      },
      "source": [
        "from statsmodels.stats.outliers_influence import summary_table\n",
        "\n",
        "st, data1, ss2 = summary_table(result1, alpha=.05)\n",
        "fittedvalues=data1[:,2]\n",
        "predict_mean_se = data1[:,3]\n",
        "predict_mean_ci_low, predict_mean_ci_upp = data1[:, 4:6].T \n",
        "predict_ci_low, predict_ci_upp = data1[:, 6:8].T"
      ],
      "execution_count": 79,
      "outputs": []
    },
    {
      "cell_type": "code",
      "metadata": {
        "colab": {
          "base_uri": "https://localhost:8080/"
        },
        "id": "C98D2Sd-VIoE",
        "outputId": "42e738c1-458e-4a34-df50-f7e63f9d7f0b"
      },
      "source": [
        "predict_mean_ci_low"
      ],
      "execution_count": 80,
      "outputs": [
        {
          "output_type": "execute_result",
          "data": {
            "text/plain": [
              "array([ 51.03868339,  75.2931351 ,  87.10977127,  87.10977127,\n",
              "       109.56629808, 129.56629808, 147.10977127, 147.10977127,\n",
              "       155.2931351 , 171.03868339])"
            ]
          },
          "metadata": {},
          "execution_count": 80
        }
      ]
    },
    {
      "cell_type": "code",
      "metadata": {
        "colab": {
          "base_uri": "https://localhost:8080/"
        },
        "id": "lkObwm-2VU1h",
        "outputId": "9fde314b-a18d-4851-ca95-d563f1ba6f61"
      },
      "source": [
        "predict_mean_ci_upp"
      ],
      "execution_count": 81,
      "outputs": [
        {
          "output_type": "execute_result",
          "data": {
            "text/plain": [
              "array([ 88.96131661, 104.7068649 , 112.89022873, 112.89022873,\n",
              "       130.43370192, 150.43370192, 172.89022873, 172.89022873,\n",
              "       184.7068649 , 208.96131661])"
            ]
          },
          "metadata": {},
          "execution_count": 81
        }
      ]
    },
    {
      "cell_type": "code",
      "metadata": {
        "colab": {
          "base_uri": "https://localhost:8080/"
        },
        "id": "MrfqnnX-VWOx",
        "outputId": "3960f090-a6d1-43a1-ba52-96a7621d13a6"
      },
      "source": [
        "predict_ci_low"
      ],
      "execution_count": 82,
      "outputs": [
        {
          "output_type": "execute_result",
          "data": {
            "text/plain": [
              "array([ 32.89834155,  54.8817226 ,  65.60291394,  65.60291394,\n",
              "        86.446108  , 106.446108  , 125.60291394, 125.60291394,\n",
              "       134.8817226 , 152.89834155])"
            ]
          },
          "metadata": {},
          "execution_count": 82
        }
      ]
    },
    {
      "cell_type": "code",
      "metadata": {
        "colab": {
          "base_uri": "https://localhost:8080/"
        },
        "id": "Wo9YWfVgVXVh",
        "outputId": "74de0650-f0f6-41df-eb28-261af8b80409"
      },
      "source": [
        "predict_ci_upp"
      ],
      "execution_count": 83,
      "outputs": [
        {
          "output_type": "execute_result",
          "data": {
            "text/plain": [
              "array([107.10165845, 125.1182774 , 134.39708606, 134.39708606,\n",
              "       153.553892  , 173.553892  , 194.39708606, 194.39708606,\n",
              "       205.1182774 , 227.10165845])"
            ]
          },
          "metadata": {},
          "execution_count": 83
        }
      ]
    },
    {
      "cell_type": "code",
      "metadata": {
        "colab": {
          "base_uri": "https://localhost:8080/",
          "height": 374
        },
        "id": "se9AKEaHVZSB",
        "outputId": "38b670b1-33a9-40dd-9ab5-b3fc7f5d9cd5"
      },
      "source": [
        "X = s.add_constant(x)\n",
        "fig, ax = plt.subplots(figsize=(8,6))\n",
        "ax.plot(x, y, 'o', label=\"data\")\n",
        "ax.plot(X, fittedvalues, 'r-', label=\"OLS\")\n",
        "ax.plot(X, predict_ci_low, 'b--')\n",
        "ax.plot(X, predict_ci_upp, 'b--')\n",
        "ax.plot(X, predict_mean_ci_low, 'g--')\n",
        "ax.plot(X, predict_mean_ci_upp, 'g--')\n",
        "ax.legend(loc='best')\n",
        "plt.show()"
      ],
      "execution_count": 84,
      "outputs": [
        {
          "output_type": "display_data",
          "data": {
            "image/png": "[encoded data removed]",
            "text/plain": [
              "<Figure size 576x432 with 1 Axes>"
            ]
          },
          "metadata": {
            "needs_background": "light"
          }
        }
      ]
    },
    {
      "cell_type": "code",
      "metadata": {
        "colab": {
          "base_uri": "https://localhost:8080/",
          "height": 336
        },
        "id": "1_R8q6eZVlia",
        "outputId": "18177239-f262-497a-ea06-a3bf5683b152"
      },
      "source": [
        "sns.residplot(x, y, color=\"g\")"
      ],
      "execution_count": 85,
      "outputs": [
        {
          "output_type": "stream",
          "text": [
            "/usr/local/lib/python3.7/dist-packages/seaborn/_decorators.py:43: FutureWarning: Pass the following variables as keyword args: x, y. From version 0.12, the only valid positional argument will be `data`, and passing other arguments without an explicit keyword will result in an error or misinterpretation.\n",
            "  FutureWarning\n"
          ],
          "name": "stderr"
        },
        {
          "output_type": "execute_result",
          "data": {
            "text/plain": [
              "<matplotlib.axes._subplots.AxesSubplot at 0x7f9d667224d0>"
            ]
          },
          "metadata": {},
          "execution_count": 85
        },
        {
          "output_type": "display_data",
          "data": {
            "image/png": "[encoded data removed]",
            "text/plain": [
              "<Figure size 432x288 with 1 Axes>"
            ]
          },
          "metadata": {
            "needs_background": "light"
          }
        }
      ]
    },
    {
      "cell_type": "code",
      "metadata": {
        "colab": {
          "base_uri": "https://localhost:8080/"
        },
        "id": "UDJj5nNpc6U2",
        "outputId": "2bc8c981-18fb-45f9-ba16-7e295bc4c90f"
      },
      "source": [
        "\n",
        "Reg1 = sm.ols(formula=\"Sales ~ Student_Population\", data = tbl_icecream)\n",
        "fit1 = Reg1.fit()\n",
        "print(fit1.summary())"
      ],
      "execution_count": 90,
      "outputs": [
        {
          "output_type": "stream",
          "text": [
            "                            OLS Regression Results                            \n",
            "==============================================================================\n",
            "Dep. Variable:                  Sales   R-squared:                       0.903\n",
            "Model:                            OLS   Adj. R-squared:                  0.891\n",
            "Method:                 Least Squares   F-statistic:                     74.25\n",
            "Date:                Sat, 21 Aug 2021   Prob (F-statistic):           2.55e-05\n",
            "Time:                        02:04:24   Log-Likelihood:                -39.342\n",
            "No. Observations:                  10   AIC:                             82.68\n",
            "Df Residuals:                       8   BIC:                             83.29\n",
            "Df Model:                           1                                         \n",
            "Covariance Type:            nonrobust                                         \n",
            "======================================================================================\n",
            "                         coef    std err          t      P>|t|      [0.025      0.975]\n",
            "--------------------------------------------------------------------------------------\n",
            "Intercept             60.0000      9.226      6.503      0.000      38.725      81.275\n",
            "Student_Population     5.0000      0.580      8.617      0.000       3.662       6.338\n",
            "==============================================================================\n",
            "Omnibus:                        0.928   Durbin-Watson:                   3.224\n",
            "Prob(Omnibus):                  0.629   Jarque-Bera (JB):                0.616\n",
            "Skew:                          -0.060   Prob(JB):                        0.735\n",
            "Kurtosis:                       1.790   Cond. No.                         33.6\n",
            "==============================================================================\n",
            "\n",
            "Warnings:\n",
            "[1] Standard Errors assume that the covariance matrix of the errors is correctly specified.\n"
          ],
          "name": "stdout"
        },
        {
          "output_type": "stream",
          "text": [
            "/usr/local/lib/python3.7/dist-packages/scipy/stats/stats.py:1535: UserWarning: kurtosistest only valid for n>=20 ... continuing anyway, n=10\n",
            "  \"anyway, n=%i\" % int(n))\n"
          ],
          "name": "stderr"
        }
      ]
    },
    {
      "cell_type": "code",
      "metadata": {
        "colab": {
          "base_uri": "https://localhost:8080/"
        },
        "id": "sXWa4KooY8GM",
        "outputId": "a738a929-cbc7-41d8-a188-41866b0696d1"
      },
      "source": [
        "influence = fit1.get_influence()\n",
        "resid_student = influence.resid_studentized_external\n",
        "resid_student"
      ],
      "execution_count": 92,
      "outputs": [
        {
          "output_type": "execute_result",
          "data": {
            "text/plain": [
              "array([-1.09212653,  1.26798654, -0.94196706,  1.54023214, -0.21544891,\n",
              "       -0.21544891, -0.22263461,  0.68766487, -2.01063738,  1.09212653])"
            ]
          },
          "metadata": {},
          "execution_count": 92
        }
      ]
    },
    {
      "cell_type": "code",
      "metadata": {
        "colab": {
          "base_uri": "https://localhost:8080/",
          "height": 282
        },
        "id": "AiX_5p8DcsqK",
        "outputId": "3e3432f3-0568-41bc-dfba-3d4faa88951f"
      },
      "source": [
        "plt.figure()\n",
        "plt.scatter(x, resid_student, color=\"green\")"
      ],
      "execution_count": 93,
      "outputs": [
        {
          "output_type": "execute_result",
          "data": {
            "text/plain": [
              "<matplotlib.collections.PathCollection at 0x7f9d66d091d0>"
            ]
          },
          "metadata": {},
          "execution_count": 93
        },
        {
          "output_type": "display_data",
          "data": {
            "image/png": "[encoded data removed]",
            "text/plain": [
              "<Figure size 432x288 with 1 Axes>"
            ]
          },
          "metadata": {
            "needs_background": "light"
          }
        }
      ]
    },
    {
      "cell_type": "code",
      "metadata": {
        "colab": {
          "base_uri": "https://localhost:8080/"
        },
        "id": "BFQGA17PZ7l6",
        "outputId": "5062d2da-98e5-40c9-f7fb-cd3e4e22c40d"
      },
      "source": [
        "print (anova_lm(fit1))"
      ],
      "execution_count": 87,
      "outputs": [
        {
          "output_type": "stream",
          "text": [
            "                     df   sum_sq   mean_sq          F    PR(>F)\n",
            "Student_Population  1.0  14200.0  14200.00  74.248366  0.000025\n",
            "Residual            8.0   1530.0    191.25        NaN       NaN\n"
          ],
          "name": "stdout"
        }
      ]
    },
    {
      "cell_type": "code",
      "metadata": {
        "colab": {
          "base_uri": "https://localhost:8080/",
          "height": 295
        },
        "id": "27HkoFQoag-q",
        "outputId": "e074a451-acb6-492e-a856-fcfe4bf403ff"
      },
      "source": [
        "res = fit1.resid\n",
        "probplot = s.ProbPlot(res,stats.norm, fit=True)\n",
        "fig = probplot.qqplot(line='45')\n",
        "h = plt.title('qqplot ~ residuals of OLS fit')\n",
        "plt.show()"
      ],
      "execution_count": 95,
      "outputs": [
        {
          "output_type": "display_data",
          "data": {
            "image/png": "[encoded data removed]",
            "text/plain": [
              "<Figure size 432x288 with 1 Axes>"
            ]
          },
          "metadata": {
            "needs_background": "light"
          }
        }
      ]
    },
    {
      "cell_type": "code",
      "metadata": {
        "id": "sDHNWwBHcJJs"
      },
      "source": [
        ""
      ],
      "execution_count": null,
      "outputs": []
    }
  ]
}