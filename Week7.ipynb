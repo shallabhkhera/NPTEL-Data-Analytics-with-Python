{
  "nbformat": 4,
  "nbformat_minor": 0,
  "metadata": {
    "colab": {
      "name": "Week7.ipynb",
      "provenance": [],
      "authorship_tag": "ABX9TyOHL6v7kS2LE92dBrgZwr3N",
      "include_colab_link": true
    },
    "kernelspec": {
      "name": "python3",
      "display_name": "Python 3"
    },
    "language_info": {
      "name": "python"
    }
  },
  "cells": [
    {
      "cell_type": "markdown",
      "metadata": {
        "id": "view-in-github",
        "colab_type": "text"
      },
      "source": [
        "<a href=\"https://colab.research.google.com/github/shallabhkhera/NPTEL-Data-Analytics-with-Python/blob/main/Week7.ipynb\" target=\"_parent\"><img src=\"https://colab.research.google.com/assets/colab-badge.svg\" alt=\"Open In Colab\"/></a>"
      ]
    },
    {
      "cell_type": "code",
      "metadata": {
        "colab": {
          "base_uri": "https://localhost:8080/"
        },
        "id": "bVmG-mMMO76P",
        "outputId": "5df038c0-6dd5-42e8-b74a-f7b4ed9672fc"
      },
      "source": [
        "import pandas as pd\n",
        "from scipy import stats\n",
        "import matplotlib as mpl\n",
        "from matplotlib import pyplot as plt\n",
        "import seaborn as sns\n",
        "import numpy as np\n",
        "import statsmodels.formula.api as sm\n",
        "from sklearn.linear_model import LinearRegression\n",
        "from sklearn import linear_model\n",
        "from sklearn.metrics import mean_squared_error\n",
        "\n",
        "\n",
        "tbl_icecream = 'https://github.com/shallabhkhera/NPTEL-Data-Analytics-with-Python/blob/main/lrm.xlsx?raw=true'\n",
        "tbl_icecream = pd.read_excel(tbl_icecream)\n",
        "print(tbl_icecream)"
      ],
      "execution_count": 4,
      "outputs": [
        {
          "output_type": "stream",
          "text": [
            "   Restaurant  Student_Population  Sales\n",
            "0           1                   2     58\n",
            "1           2                   6    105\n",
            "2           3                   8     88\n",
            "3           4                   8    118\n",
            "4           5                  12    117\n",
            "5           6                  16    137\n",
            "6           7                  20    157\n",
            "7           8                  20    169\n",
            "8           9                  22    149\n",
            "9          10                  26    202\n"
          ],
          "name": "stdout"
        }
      ]
    },
    {
      "cell_type": "code",
      "metadata": {
        "colab": {
          "base_uri": "https://localhost:8080/",
          "height": 296
        },
        "id": "tcMf0lgKPFnq",
        "outputId": "482859fb-a197-4590-d5f6-9d3c8a851339"
      },
      "source": [
        "tbl_icecream.plot('Student_Population', 'Sales', style='o')\n",
        "plt.ylabel('Ice Cream Sales')\n",
        "plt.title('Sales in')\n",
        "plt.show()\n"
      ],
      "execution_count": 7,
      "outputs": [
        {
          "output_type": "display_data",
          "data": {
            "image/png": "[encoded data removed]",
            "text/plain": [
              "<Figure size 432x288 with 1 Axes>"
            ]
          },
          "metadata": {
            "needs_background": "light"
          }
        }
      ]
    },
    {
      "cell_type": "code",
      "metadata": {
        "colab": {
          "base_uri": "https://localhost:8080/"
        },
        "id": "KcMiRuf_PU0m",
        "outputId": "df67a1ff-6320-4430-ae93-b5c8fd5d0556"
      },
      "source": [
        "t = tbl_icecream['Student_Population']\n",
        "c = tbl_icecream['Sales']\n",
        "import statsmodels.api as s\n",
        "t = s.add_constant(t)\n",
        "model1 = s.OLS(c, t)\n",
        "result1 = model1.fit()\n",
        "print(result1.summary())"
      ],
      "execution_count": 8,
      "outputs": [
        {
          "output_type": "stream",
          "text": [
            "                            OLS Regression Results                            \n",
            "==============================================================================\n",
            "Dep. Variable:                  Sales   R-squared:                       0.903\n",
            "Model:                            OLS   Adj. R-squared:                  0.891\n",
            "Method:                 Least Squares   F-statistic:                     74.25\n",
            "Date:                Sat, 21 Aug 2021   Prob (F-statistic):           2.55e-05\n",
            "Time:                        01:09:58   Log-Likelihood:                -39.342\n",
            "No. Observations:                  10   AIC:                             82.68\n",
            "Df Residuals:                       8   BIC:                             83.29\n",
            "Df Model:                           1                                         \n",
            "Covariance Type:            nonrobust                                         \n",
            "======================================================================================\n",
            "                         coef    std err          t      P>|t|      [0.025      0.975]\n",
            "--------------------------------------------------------------------------------------\n",
            "const                 60.0000      9.226      6.503      0.000      38.725      81.275\n",
            "Student_Population     5.0000      0.580      8.617      0.000       3.662       6.338\n",
            "==============================================================================\n",
            "Omnibus:                        0.928   Durbin-Watson:                   3.224\n",
            "Prob(Omnibus):                  0.629   Jarque-Bera (JB):                0.616\n",
            "Skew:                          -0.060   Prob(JB):                        0.735\n",
            "Kurtosis:                       1.790   Cond. No.                         33.6\n",
            "==============================================================================\n",
            "\n",
            "Warnings:\n",
            "[1] Standard Errors assume that the covariance matrix of the errors is correctly specified.\n"
          ],
          "name": "stdout"
        },
        {
          "output_type": "stream",
          "text": [
            "/usr/local/lib/python3.7/dist-packages/scipy/stats/stats.py:1535: UserWarning: kurtosistest only valid for n>=20 ... continuing anyway, n=10\n",
            "  \"anyway, n=%i\" % int(n))\n"
          ],
          "name": "stderr"
        }
      ]
    },
    {
      "cell_type": "code",
      "metadata": {
        "colab": {
          "base_uri": "https://localhost:8080/"
        },
        "id": "P5xEqBtuQdfD",
        "outputId": "e8c63c81-d394-4266-b25a-8f37038a4de0"
      },
      "source": [
        "from sklearn.linear_model import LinearRegression\n",
        "x = tbl_icecream['Student_Population'].values.reshape(-1,1)\n",
        "y = tbl_icecream['Sales'].values.reshape(-1,1)\n",
        "\n",
        "reg = LinearRegression()\n",
        "reg.fit(x,y)\n",
        "\n",
        "reg.intercept_[0], reg.coef_[0][0]"
      ],
      "execution_count": 9,
      "outputs": [
        {
          "output_type": "execute_result",
          "data": {
            "text/plain": [
              "(60.0, 5.0)"
            ]
          },
          "metadata": {},
          "execution_count": 9
        }
      ]
    },
    {
      "cell_type": "code",
      "metadata": {
        "id": "P-NIxI2KRVbK"
      },
      "source": [
        ""
      ],
      "execution_count": null,
      "outputs": []
    }
  ]
}