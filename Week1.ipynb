{
  "nbformat": 4,
  "nbformat_minor": 0,
  "metadata": {
    "colab": {
      "name": "Week1.ipynb",
      "provenance": [],
      "collapsed_sections": [],
      "authorship_tag": "ABX9TyM+G8g+swYKiM7FhHhsMuiR",
      "include_colab_link": true
    },
    "kernelspec": {
      "name": "python3",
      "display_name": "Python 3"
    },
    "language_info": {
      "name": "python"
    }
  },
  "cells": [
    {
      "cell_type": "markdown",
      "metadata": {
        "id": "view-in-github",
        "colab_type": "text"
      },
      "source": [
        "<a href=\"https://colab.research.google.com/github/shallabhkhera/NPTEL-Data-Analytics-with-Python/blob/main/Week1.ipynb\" target=\"_parent\"><img src=\"https://colab.research.google.com/assets/colab-badge.svg\" alt=\"Open In Colab\"/></a>"
      ]
    },
    {
      "cell_type": "code",
      "metadata": {
        "colab": {
          "base_uri": "https://localhost:8080/"
        },
        "id": "5cuktSXVXv-x",
        "outputId": "257e71ed-6aaa-4c8e-d09e-415845e86605"
      },
      "source": [
        "import pandas as pd\n",
        "import numpy as np\n",
        "import matplotlib.pyplot as plt\n",
        "\n",
        "df = pd.read_csv('https://github.com/shallabhkhera/NPTEL-Data-Analytics-with-Python/blob/main/gapminder-FiveYearData.csv?raw=true')\n",
        "print(df.head())\n",
        "#rows and cols\n",
        "print(df.shape)\n",
        "#col names\n",
        "print(df.columns)\n",
        "#datatype of each col\n",
        "print(df.dtypes)\n",
        "print(df.info())\n",
        "\n"
      ],
      "execution_count": 9,
      "outputs": [
        {
          "output_type": "stream",
          "text": [
            "       country  year         pop continent  lifeExp   gdpPercap\n",
            "0  Afghanistan  1952   8425333.0      Asia   28.801  779.445314\n",
            "1  Afghanistan  1957   9240934.0      Asia   30.332  820.853030\n",
            "2  Afghanistan  1962  10267083.0      Asia   31.997  853.100710\n",
            "3  Afghanistan  1967  11537966.0      Asia   34.020  836.197138\n",
            "4  Afghanistan  1972  13079460.0      Asia   36.088  739.981106\n",
            "(1704, 6)\n",
            "Index(['country', 'year', 'pop', 'continent', 'lifeExp', 'gdpPercap'], dtype='object')\n",
            "country       object\n",
            "year           int64\n",
            "pop          float64\n",
            "continent     object\n",
            "lifeExp      float64\n",
            "gdpPercap    float64\n",
            "dtype: object\n",
            "<class 'pandas.core.frame.DataFrame'>\n",
            "RangeIndex: 1704 entries, 0 to 1703\n",
            "Data columns (total 6 columns):\n",
            " #   Column     Non-Null Count  Dtype  \n",
            "---  ------     --------------  -----  \n",
            " 0   country    1704 non-null   object \n",
            " 1   year       1704 non-null   int64  \n",
            " 2   pop        1704 non-null   float64\n",
            " 3   continent  1704 non-null   object \n",
            " 4   lifeExp    1704 non-null   float64\n",
            " 5   gdpPercap  1704 non-null   float64\n",
            "dtypes: float64(3), int64(1), object(2)\n",
            "memory usage: 80.0+ KB\n",
            "None\n"
          ],
          "name": "stdout"
        }
      ]
    },
    {
      "cell_type": "code",
      "metadata": {
        "colab": {
          "base_uri": "https://localhost:8080/"
        },
        "id": "fi8A2eRlb_2x",
        "outputId": "18b4d4a8-b805-4b75-9236-080bbdcb0736"
      },
      "source": [
        "country_df = df['country']\n",
        "print(country_df.head())\n",
        "print(country_df.tail())\n",
        "subset = df[['country', 'continent', 'year']]\n",
        "print(subset.head())"
      ],
      "execution_count": 14,
      "outputs": [
        {
          "output_type": "stream",
          "text": [
            "0    Afghanistan\n",
            "1    Afghanistan\n",
            "2    Afghanistan\n",
            "3    Afghanistan\n",
            "4    Afghanistan\n",
            "Name: country, dtype: object\n",
            "1699    Zimbabwe\n",
            "1700    Zimbabwe\n",
            "1701    Zimbabwe\n",
            "1702    Zimbabwe\n",
            "1703    Zimbabwe\n",
            "Name: country, dtype: object\n",
            "       country continent  year\n",
            "0  Afghanistan      Asia  1952\n",
            "1  Afghanistan      Asia  1957\n",
            "2  Afghanistan      Asia  1962\n",
            "3  Afghanistan      Asia  1967\n",
            "4  Afghanistan      Asia  1972\n"
          ],
          "name": "stdout"
        }
      ]
    },
    {
      "cell_type": "code",
      "metadata": {
        "colab": {
          "base_uri": "https://localhost:8080/"
        },
        "id": "Pdl30xGHYPX2",
        "outputId": "a851b488-be59-48d3-b801-024584cce16c"
      },
      "source": [
        "#subset by index label\n",
        "print(df.loc[99])"
      ],
      "execution_count": 16,
      "outputs": [
        {
          "output_type": "stream",
          "text": [
            "country       Bangladesh\n",
            "year                1967\n",
            "pop          6.28219e+07\n",
            "continent           Asia\n",
            "lifeExp           43.453\n",
            "gdpPercap        721.186\n",
            "Name: 99, dtype: object\n"
          ],
          "name": "stdout"
        }
      ]
    },
    {
      "cell_type": "code",
      "metadata": {
        "id": "V4nvNFLScfdL"
      },
      "source": [
        ""
      ],
      "execution_count": null,
      "outputs": []
    }
  ]
}