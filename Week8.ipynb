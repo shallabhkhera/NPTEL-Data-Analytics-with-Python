{
  "nbformat": 4,
  "nbformat_minor": 0,
  "metadata": {
    "colab": {
      "name": "Week8.ipynb",
      "provenance": [],
      "collapsed_sections": [],
      "authorship_tag": "ABX9TyM/6T6vu9pzguC8oWOXgehh",
      "include_colab_link": true
    },
    "kernelspec": {
      "name": "python3",
      "display_name": "Python 3"
    },
    "language_info": {
      "name": "python"
    }
  },
  "cells": [
    {
      "cell_type": "markdown",
      "metadata": {
        "id": "view-in-github",
        "colab_type": "text"
      },
      "source": [
        "<a href=\"https://colab.research.google.com/github/shallabhkhera/NPTEL-Data-Analytics-with-Python/blob/main/Week8.ipynb\" target=\"_parent\"><img src=\"https://colab.research.google.com/assets/colab-badge.svg\" alt=\"Open In Colab\"/></a>"
      ]
    },
    {
      "cell_type": "code",
      "metadata": {
        "colab": {
          "base_uri": "https://localhost:8080/",
          "height": 498
        },
        "id": "2ge2RfDNdzaP",
        "outputId": "5baadbba-7670-4ef1-8637-4ac7de178656"
      },
      "source": [
        "import numpy as np\n",
        "from scipy.optimize import minimize\n",
        "import scipy.stats as stats\n",
        "from statsmodels.formula.api import ols\n",
        "import pandas as pd\n",
        "import matplotlib.pyplot as plt\n",
        "from sklearn.metrics import mean_squared_error\n",
        "from sklearn import linear_model\n",
        "\n",
        "url = 'https://github.com/shallabhkhera/NPTEL-Data-Analytics-with-Python/blob/main/MLE.xlsx?raw=true'\n",
        "tbl = pd.read_excel(url)\n",
        "tbl\n",
        "model = ols(formula = \"Y ~ X\", data = tbl).fit()\n",
        "model.summary()"
      ],
      "execution_count": 8,
      "outputs": [
        {
          "output_type": "stream",
          "text": [
            "/usr/local/lib/python3.7/dist-packages/statsmodels/stats/stattools.py:71: ValueWarning: omni_normtest is not valid with less than 8 observations; 5 samples were given.\n",
            "  \"samples were given.\" % int(n), ValueWarning)\n"
          ],
          "name": "stderr"
        },
        {
          "output_type": "execute_result",
          "data": {
            "text/html": [
              "<table class=\"simpletable\">\n",
              "<caption>OLS Regression Results</caption>\n",
              "<tr>\n",
              "  <th>Dep. Variable:</th>            <td>Y</td>        <th>  R-squared:         </th> <td>   0.980</td>\n",
              "</tr>\n",
              "<tr>\n",
              "  <th>Model:</th>                   <td>OLS</td>       <th>  Adj. R-squared:    </th> <td>   0.973</td>\n",
              "</tr>\n",
              "<tr>\n",
              "  <th>Method:</th>             <td>Least Squares</td>  <th>  F-statistic:       </th> <td>   145.9</td>\n",
              "</tr>\n",
              "<tr>\n",
              "  <th>Date:</th>             <td>Sat, 21 Aug 2021</td> <th>  Prob (F-statistic):</th>  <td>0.00122</td>\n",
              "</tr>\n",
              "<tr>\n",
              "  <th>Time:</th>                 <td>17:13:07</td>     <th>  Log-Likelihood:    </th> <td> -4.5811</td>\n",
              "</tr>\n",
              "<tr>\n",
              "  <th>No. Observations:</th>      <td>     5</td>      <th>  AIC:               </th> <td>   13.16</td>\n",
              "</tr>\n",
              "<tr>\n",
              "  <th>Df Residuals:</th>          <td>     3</td>      <th>  BIC:               </th> <td>   12.38</td>\n",
              "</tr>\n",
              "<tr>\n",
              "  <th>Df Model:</th>              <td>     1</td>      <th>                     </th>     <td> </td>   \n",
              "</tr>\n",
              "<tr>\n",
              "  <th>Covariance Type:</th>      <td>nonrobust</td>    <th>                     </th>     <td> </td>   \n",
              "</tr>\n",
              "</table>\n",
              "<table class=\"simpletable\">\n",
              "<tr>\n",
              "      <td></td>         <th>coef</th>     <th>std err</th>      <th>t</th>      <th>P>|t|</th>  <th>[0.025</th>    <th>0.975]</th>  \n",
              "</tr>\n",
              "<tr>\n",
              "  <th>Intercept</th> <td>   -0.2882</td> <td>    0.755</td> <td>   -0.382</td> <td> 0.728</td> <td>   -2.692</td> <td>    2.115</td>\n",
              "</tr>\n",
              "<tr>\n",
              "  <th>X</th>         <td>    1.6176</td> <td>    0.134</td> <td>   12.079</td> <td> 0.001</td> <td>    1.191</td> <td>    2.044</td>\n",
              "</tr>\n",
              "</table>\n",
              "<table class=\"simpletable\">\n",
              "<tr>\n",
              "  <th>Omnibus:</th>       <td>   nan</td> <th>  Durbin-Watson:     </th> <td>   1.405</td>\n",
              "</tr>\n",
              "<tr>\n",
              "  <th>Prob(Omnibus):</th> <td>   nan</td> <th>  Jarque-Bera (JB):  </th> <td>   0.551</td>\n",
              "</tr>\n",
              "<tr>\n",
              "  <th>Skew:</th>          <td> 0.089</td> <th>  Prob(JB):          </th> <td>   0.759</td>\n",
              "</tr>\n",
              "<tr>\n",
              "  <th>Kurtosis:</th>      <td> 1.384</td> <th>  Cond. No.          </th> <td>    12.5</td>\n",
              "</tr>\n",
              "</table><br/><br/>Warnings:<br/>[1] Standard Errors assume that the covariance matrix of the errors is correctly specified."
            ],
            "text/plain": [
              "<class 'statsmodels.iolib.summary.Summary'>\n",
              "\"\"\"\n",
              "                            OLS Regression Results                            \n",
              "==============================================================================\n",
              "Dep. Variable:                      Y   R-squared:                       0.980\n",
              "Model:                            OLS   Adj. R-squared:                  0.973\n",
              "Method:                 Least Squares   F-statistic:                     145.9\n",
              "Date:                Sat, 21 Aug 2021   Prob (F-statistic):            0.00122\n",
              "Time:                        17:13:07   Log-Likelihood:                -4.5811\n",
              "No. Observations:                   5   AIC:                             13.16\n",
              "Df Residuals:                       3   BIC:                             12.38\n",
              "Df Model:                           1                                         \n",
              "Covariance Type:            nonrobust                                         \n",
              "==============================================================================\n",
              "                 coef    std err          t      P>|t|      [0.025      0.975]\n",
              "------------------------------------------------------------------------------\n",
              "Intercept     -0.2882      0.755     -0.382      0.728      -2.692       2.115\n",
              "X              1.6176      0.134     12.079      0.001       1.191       2.044\n",
              "==============================================================================\n",
              "Omnibus:                          nan   Durbin-Watson:                   1.405\n",
              "Prob(Omnibus):                    nan   Jarque-Bera (JB):                0.551\n",
              "Skew:                           0.089   Prob(JB):                        0.759\n",
              "Kurtosis:                       1.384   Cond. No.                         12.5\n",
              "==============================================================================\n",
              "\n",
              "Warnings:\n",
              "[1] Standard Errors assume that the covariance matrix of the errors is correctly specified.\n",
              "\"\"\""
            ]
          },
          "metadata": {},
          "execution_count": 8
        }
      ]
    },
    {
      "cell_type": "code",
      "metadata": {
        "colab": {
          "base_uri": "https://localhost:8080/"
        },
        "id": "92H8VHhBqRqA",
        "outputId": "8eedbf44-d83b-4b7b-decd-872b97daffaa"
      },
      "source": [
        "e = model.resid\n",
        "e"
      ],
      "execution_count": 9,
      "outputs": [
        {
          "output_type": "execute_result",
          "data": {
            "text/plain": [
              "0    0.670588\n",
              "1   -0.182353\n",
              "2   -0.800000\n",
              "3   -0.417647\n",
              "4    0.729412\n",
              "dtype: float64"
            ]
          },
          "metadata": {},
          "execution_count": 9
        }
      ]
    },
    {
      "cell_type": "code",
      "metadata": {
        "colab": {
          "base_uri": "https://localhost:8080/"
        },
        "id": "RgGbFKQvrjmQ",
        "outputId": "6bbba528-0fd9-408a-caba-5ed6b30e0731"
      },
      "source": [
        "np.std(e)"
      ],
      "execution_count": 10,
      "outputs": [
        {
          "output_type": "execute_result",
          "data": {
            "text/plain": [
              "0.6048820983804833"
            ]
          },
          "metadata": {},
          "execution_count": 10
        }
      ]
    },
    {
      "cell_type": "code",
      "metadata": {
        "colab": {
          "base_uri": "https://localhost:8080/"
        },
        "id": "xSCLdttbrmhW",
        "outputId": "91b65354-9340-45b9-bf85-3d263554eb22"
      },
      "source": [
        "def lik(parameters):\n",
        "  m = parameters[0]\n",
        "  b = parameters[1]\n",
        "  sigma = parameters[2]\n",
        "  for i in np.arange(0,len(x)):\n",
        "    y_exp = m*x + b\n",
        "  L = (len(x)/2 * np.log(2*np.pi) + len(x)/2 * np.log(sigma**2) + 1 / (2*sigma**2) * sum((y - y_exp) **2))\n",
        "  return L\n",
        "\n",
        "x = np.array([1,3,2,1,3])\n",
        "y = np.array([14,24,18,17,27])\n",
        "lik_model = minimize(lik, np.array([2,2,2]), method='Nelder-Mead')\n",
        "lik_model\n",
        "  \n"
      ],
      "execution_count": 11,
      "outputs": [
        {
          "output_type": "execute_result",
          "data": {
            "text/plain": [
              " final_simplex: (array([[ 5.00000631, 10.00000822,  1.67332132],\n",
              "       [ 4.99996581, 10.00008112,  1.67332683],\n",
              "       [ 4.99998382, 10.00002278,  1.67329385],\n",
              "       [ 5.00001119,  9.9999767 ,  1.67334933]]), array([9.66874121, 9.66874121, 9.66874121, 9.66874121]))\n",
              "           fun: 9.668741209395263\n",
              "       message: 'Optimization terminated successfully.'\n",
              "          nfev: 212\n",
              "           nit: 118\n",
              "        status: 0\n",
              "       success: True\n",
              "             x: array([ 5.00000631, 10.00000822,  1.67332132])"
            ]
          },
          "metadata": {},
          "execution_count": 11
        }
      ]
    },
    {
      "cell_type": "code",
      "metadata": {
        "colab": {
          "base_uri": "https://localhost:8080/",
          "height": 419
        },
        "id": "xClXZ2GSsYe0",
        "outputId": "870cff79-5cf4-4b21-afc5-356bc1967486"
      },
      "source": [
        "url1 = 'https://github.com/shallabhkhera/NPTEL-Data-Analytics-with-Python/blob/main/Simmons.xls?raw=true'\n",
        "df = pd.read_excel(url1)\n",
        "df"
      ],
      "execution_count": 15,
      "outputs": [
        {
          "output_type": "execute_result",
          "data": {
            "text/html": [
              "<div>\n",
              "<style scoped>\n",
              "    .dataframe tbody tr th:only-of-type {\n",
              "        vertical-align: middle;\n",
              "    }\n",
              "\n",
              "    .dataframe tbody tr th {\n",
              "        vertical-align: top;\n",
              "    }\n",
              "\n",
              "    .dataframe thead th {\n",
              "        text-align: right;\n",
              "    }\n",
              "</style>\n",
              "<table border=\"1\" class=\"dataframe\">\n",
              "  <thead>\n",
              "    <tr style=\"text-align: right;\">\n",
              "      <th></th>\n",
              "      <th>Customer</th>\n",
              "      <th>Spending</th>\n",
              "      <th>Card</th>\n",
              "      <th>Coupon</th>\n",
              "    </tr>\n",
              "  </thead>\n",
              "  <tbody>\n",
              "    <tr>\n",
              "      <th>0</th>\n",
              "      <td>1</td>\n",
              "      <td>2.291</td>\n",
              "      <td>1</td>\n",
              "      <td>0</td>\n",
              "    </tr>\n",
              "    <tr>\n",
              "      <th>1</th>\n",
              "      <td>2</td>\n",
              "      <td>3.215</td>\n",
              "      <td>1</td>\n",
              "      <td>0</td>\n",
              "    </tr>\n",
              "    <tr>\n",
              "      <th>2</th>\n",
              "      <td>3</td>\n",
              "      <td>2.135</td>\n",
              "      <td>1</td>\n",
              "      <td>0</td>\n",
              "    </tr>\n",
              "    <tr>\n",
              "      <th>3</th>\n",
              "      <td>4</td>\n",
              "      <td>3.924</td>\n",
              "      <td>0</td>\n",
              "      <td>0</td>\n",
              "    </tr>\n",
              "    <tr>\n",
              "      <th>4</th>\n",
              "      <td>5</td>\n",
              "      <td>2.528</td>\n",
              "      <td>1</td>\n",
              "      <td>0</td>\n",
              "    </tr>\n",
              "    <tr>\n",
              "      <th>...</th>\n",
              "      <td>...</td>\n",
              "      <td>...</td>\n",
              "      <td>...</td>\n",
              "      <td>...</td>\n",
              "    </tr>\n",
              "    <tr>\n",
              "      <th>95</th>\n",
              "      <td>96</td>\n",
              "      <td>3.318</td>\n",
              "      <td>0</td>\n",
              "      <td>0</td>\n",
              "    </tr>\n",
              "    <tr>\n",
              "      <th>96</th>\n",
              "      <td>97</td>\n",
              "      <td>2.421</td>\n",
              "      <td>1</td>\n",
              "      <td>0</td>\n",
              "    </tr>\n",
              "    <tr>\n",
              "      <th>97</th>\n",
              "      <td>98</td>\n",
              "      <td>6.073</td>\n",
              "      <td>0</td>\n",
              "      <td>0</td>\n",
              "    </tr>\n",
              "    <tr>\n",
              "      <th>98</th>\n",
              "      <td>99</td>\n",
              "      <td>2.630</td>\n",
              "      <td>1</td>\n",
              "      <td>0</td>\n",
              "    </tr>\n",
              "    <tr>\n",
              "      <th>99</th>\n",
              "      <td>100</td>\n",
              "      <td>3.411</td>\n",
              "      <td>0</td>\n",
              "      <td>1</td>\n",
              "    </tr>\n",
              "  </tbody>\n",
              "</table>\n",
              "<p>100 rows × 4 columns</p>\n",
              "</div>"
            ],
            "text/plain": [
              "    Customer  Spending  Card  Coupon\n",
              "0          1     2.291     1       0\n",
              "1          2     3.215     1       0\n",
              "2          3     2.135     1       0\n",
              "3          4     3.924     0       0\n",
              "4          5     2.528     1       0\n",
              "..       ...       ...   ...     ...\n",
              "95        96     3.318     0       0\n",
              "96        97     2.421     1       0\n",
              "97        98     6.073     0       0\n",
              "98        99     2.630     1       0\n",
              "99       100     3.411     0       1\n",
              "\n",
              "[100 rows x 4 columns]"
            ]
          },
          "metadata": {},
          "execution_count": 15
        }
      ]
    },
    {
      "cell_type": "code",
      "metadata": {
        "colab": {
          "base_uri": "https://localhost:8080/",
          "height": 282
        },
        "id": "J1BJC-nQskFi",
        "outputId": "f28aa7d8-aa86-423d-ffff-5ffd7b51a246"
      },
      "source": [
        "plt.scatter(df.Spending, df.Coupon, marker='+', color='red')"
      ],
      "execution_count": 16,
      "outputs": [
        {
          "output_type": "execute_result",
          "data": {
            "text/plain": [
              "<matplotlib.collections.PathCollection at 0x7f6a4baeab50>"
            ]
          },
          "metadata": {},
          "execution_count": 16
        },
        {
          "output_type": "display_data",
          "data": {
            "image/png": "[encoded data removed]",
            "text/plain": [
              "<Figure size 432x288 with 1 Axes>"
            ]
          },
          "metadata": {
            "needs_background": "light"
          }
        }
      ]
    },
    {
      "cell_type": "code",
      "metadata": {
        "colab": {
          "base_uri": "https://localhost:8080/"
        },
        "id": "ZzCAh586sw3Y",
        "outputId": "7063655e-1bf4-43c1-f159-619d5797c0f2"
      },
      "source": [
        "x = df[['Card', 'Spending']]\n",
        "y = df['Coupon']\n",
        "import statsmodels.api as sm\n",
        "\n",
        "x1 = sm.add_constant(x)\n",
        "logit_model = sm.Logit(y, x1)\n",
        "result = logit_model.fit()\n",
        "print(result.summary())\n",
        "\n"
      ],
      "execution_count": 18,
      "outputs": [
        {
          "output_type": "stream",
          "text": [
            "Optimization terminated successfully.\n",
            "         Current function value: 0.604869\n",
            "         Iterations 5\n",
            "                           Logit Regression Results                           \n",
            "==============================================================================\n",
            "Dep. Variable:                 Coupon   No. Observations:                  100\n",
            "Model:                          Logit   Df Residuals:                       97\n",
            "Method:                           MLE   Df Model:                            2\n",
            "Date:                Sat, 21 Aug 2021   Pseudo R-squ.:                  0.1012\n",
            "Time:                        17:17:33   Log-Likelihood:                -60.487\n",
            "converged:                       True   LL-Null:                       -67.301\n",
            "Covariance Type:            nonrobust   LLR p-value:                  0.001098\n",
            "==============================================================================\n",
            "                 coef    std err          z      P>|z|      [0.025      0.975]\n",
            "------------------------------------------------------------------------------\n",
            "const         -2.1464      0.577     -3.718      0.000      -3.278      -1.015\n",
            "Card           1.0987      0.445      2.471      0.013       0.227       1.970\n",
            "Spending       0.3416      0.129      2.655      0.008       0.089       0.594\n",
            "==============================================================================\n"
          ],
          "name": "stdout"
        }
      ]
    },
    {
      "cell_type": "code",
      "metadata": {
        "colab": {
          "base_uri": "https://localhost:8080/"
        },
        "id": "uC2GfAcztyFy",
        "outputId": "0c650e71-41a0-4c1a-8502-41c6fc78537d"
      },
      "source": [
        "from scipy.stats import chi2\n",
        "chi2.pdf(13.628,2)"
      ],
      "execution_count": 19,
      "outputs": [
        {
          "output_type": "execute_result",
          "data": {
            "text/plain": [
              "0.000549145469075383"
            ]
          },
          "metadata": {},
          "execution_count": 19
        }
      ]
    },
    {
      "cell_type": "code",
      "metadata": {
        "id": "zozfc8jCuBaq"
      },
      "source": [
        ""
      ],
      "execution_count": null,
      "outputs": []
    }
  ]
}