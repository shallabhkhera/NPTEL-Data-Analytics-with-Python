{
  "nbformat": 4,
  "nbformat_minor": 0,
  "metadata": {
    "colab": {
      "name": "Week8.ipynb",
      "provenance": [],
      "authorship_tag": "ABX9TyPZvXCTJYJhX7fZqgL8vQTv",
      "include_colab_link": true
    },
    "kernelspec": {
      "name": "python3",
      "display_name": "Python 3"
    },
    "language_info": {
      "name": "python"
    }
  },
  "cells": [
    {
      "cell_type": "markdown",
      "metadata": {
        "id": "view-in-github",
        "colab_type": "text"
      },
      "source": [
        "<a href=\"https://colab.research.google.com/github/shallabhkhera/NPTEL-Data-Analytics-with-Python/blob/main/Week8.ipynb\" target=\"_parent\"><img src=\"https://colab.research.google.com/assets/colab-badge.svg\" alt=\"Open In Colab\"/></a>"
      ]
    },
    {
      "cell_type": "code",
      "metadata": {
        "colab": {
          "base_uri": "https://localhost:8080/",
          "height": 498
        },
        "id": "2ge2RfDNdzaP",
        "outputId": "3e02ab2c-22bd-46ed-fe22-410f1641e22f"
      },
      "source": [
        "import numpy as np\n",
        "from scipy.optimize import minimize\n",
        "import scipy.stats as stats\n",
        "from statsmodels.formula.api import ols\n",
        "\n",
        "import pandas as pd\n",
        "url = 'https://github.com/shallabhkhera/NPTEL-Data-Analytics-with-Python/blob/main/MLE.xlsx?raw=true'\n",
        "tbl = pd.read_excel(url)\n",
        "tbl\n",
        "model = ols(formula = \"Y ~ X\", data = tbl).fit()\n",
        "model.summary()"
      ],
      "execution_count": 8,
      "outputs": [
        {
          "output_type": "stream",
          "text": [
            "/usr/local/lib/python3.7/dist-packages/statsmodels/stats/stattools.py:71: ValueWarning: omni_normtest is not valid with less than 8 observations; 5 samples were given.\n",
            "  \"samples were given.\" % int(n), ValueWarning)\n"
          ],
          "name": "stderr"
        },
        {
          "output_type": "execute_result",
          "data": {
            "text/html": [
              "<table class=\"simpletable\">\n",
              "<caption>OLS Regression Results</caption>\n",
              "<tr>\n",
              "  <th>Dep. Variable:</th>            <td>Y</td>        <th>  R-squared:         </th> <td>   0.980</td>\n",
              "</tr>\n",
              "<tr>\n",
              "  <th>Model:</th>                   <td>OLS</td>       <th>  Adj. R-squared:    </th> <td>   0.973</td>\n",
              "</tr>\n",
              "<tr>\n",
              "  <th>Method:</th>             <td>Least Squares</td>  <th>  F-statistic:       </th> <td>   145.9</td>\n",
              "</tr>\n",
              "<tr>\n",
              "  <th>Date:</th>             <td>Sat, 21 Aug 2021</td> <th>  Prob (F-statistic):</th>  <td>0.00122</td>\n",
              "</tr>\n",
              "<tr>\n",
              "  <th>Time:</th>                 <td>12:26:22</td>     <th>  Log-Likelihood:    </th> <td> -4.5811</td>\n",
              "</tr>\n",
              "<tr>\n",
              "  <th>No. Observations:</th>      <td>     5</td>      <th>  AIC:               </th> <td>   13.16</td>\n",
              "</tr>\n",
              "<tr>\n",
              "  <th>Df Residuals:</th>          <td>     3</td>      <th>  BIC:               </th> <td>   12.38</td>\n",
              "</tr>\n",
              "<tr>\n",
              "  <th>Df Model:</th>              <td>     1</td>      <th>                     </th>     <td> </td>   \n",
              "</tr>\n",
              "<tr>\n",
              "  <th>Covariance Type:</th>      <td>nonrobust</td>    <th>                     </th>     <td> </td>   \n",
              "</tr>\n",
              "</table>\n",
              "<table class=\"simpletable\">\n",
              "<tr>\n",
              "      <td></td>         <th>coef</th>     <th>std err</th>      <th>t</th>      <th>P>|t|</th>  <th>[0.025</th>    <th>0.975]</th>  \n",
              "</tr>\n",
              "<tr>\n",
              "  <th>Intercept</th> <td>   -0.2882</td> <td>    0.755</td> <td>   -0.382</td> <td> 0.728</td> <td>   -2.692</td> <td>    2.115</td>\n",
              "</tr>\n",
              "<tr>\n",
              "  <th>X</th>         <td>    1.6176</td> <td>    0.134</td> <td>   12.079</td> <td> 0.001</td> <td>    1.191</td> <td>    2.044</td>\n",
              "</tr>\n",
              "</table>\n",
              "<table class=\"simpletable\">\n",
              "<tr>\n",
              "  <th>Omnibus:</th>       <td>   nan</td> <th>  Durbin-Watson:     </th> <td>   1.405</td>\n",
              "</tr>\n",
              "<tr>\n",
              "  <th>Prob(Omnibus):</th> <td>   nan</td> <th>  Jarque-Bera (JB):  </th> <td>   0.551</td>\n",
              "</tr>\n",
              "<tr>\n",
              "  <th>Skew:</th>          <td> 0.089</td> <th>  Prob(JB):          </th> <td>   0.759</td>\n",
              "</tr>\n",
              "<tr>\n",
              "  <th>Kurtosis:</th>      <td> 1.384</td> <th>  Cond. No.          </th> <td>    12.5</td>\n",
              "</tr>\n",
              "</table><br/><br/>Warnings:<br/>[1] Standard Errors assume that the covariance matrix of the errors is correctly specified."
            ],
            "text/plain": [
              "<class 'statsmodels.iolib.summary.Summary'>\n",
              "\"\"\"\n",
              "                            OLS Regression Results                            \n",
              "==============================================================================\n",
              "Dep. Variable:                      Y   R-squared:                       0.980\n",
              "Model:                            OLS   Adj. R-squared:                  0.973\n",
              "Method:                 Least Squares   F-statistic:                     145.9\n",
              "Date:                Sat, 21 Aug 2021   Prob (F-statistic):            0.00122\n",
              "Time:                        12:26:22   Log-Likelihood:                -4.5811\n",
              "No. Observations:                   5   AIC:                             13.16\n",
              "Df Residuals:                       3   BIC:                             12.38\n",
              "Df Model:                           1                                         \n",
              "Covariance Type:            nonrobust                                         \n",
              "==============================================================================\n",
              "                 coef    std err          t      P>|t|      [0.025      0.975]\n",
              "------------------------------------------------------------------------------\n",
              "Intercept     -0.2882      0.755     -0.382      0.728      -2.692       2.115\n",
              "X              1.6176      0.134     12.079      0.001       1.191       2.044\n",
              "==============================================================================\n",
              "Omnibus:                          nan   Durbin-Watson:                   1.405\n",
              "Prob(Omnibus):                    nan   Jarque-Bera (JB):                0.551\n",
              "Skew:                           0.089   Prob(JB):                        0.759\n",
              "Kurtosis:                       1.384   Cond. No.                         12.5\n",
              "==============================================================================\n",
              "\n",
              "Warnings:\n",
              "[1] Standard Errors assume that the covariance matrix of the errors is correctly specified.\n",
              "\"\"\""
            ]
          },
          "metadata": {},
          "execution_count": 8
        }
      ]
    },
    {
      "cell_type": "code",
      "metadata": {
        "colab": {
          "base_uri": "https://localhost:8080/"
        },
        "id": "92H8VHhBqRqA",
        "outputId": "add13d36-146f-429a-9867-4b6417ce2c41"
      },
      "source": [
        "e = model.resid\n",
        "e"
      ],
      "execution_count": 9,
      "outputs": [
        {
          "output_type": "execute_result",
          "data": {
            "text/plain": [
              "0    0.670588\n",
              "1   -0.182353\n",
              "2   -0.800000\n",
              "3   -0.417647\n",
              "4    0.729412\n",
              "dtype: float64"
            ]
          },
          "metadata": {},
          "execution_count": 9
        }
      ]
    },
    {
      "cell_type": "code",
      "metadata": {
        "colab": {
          "base_uri": "https://localhost:8080/"
        },
        "id": "RgGbFKQvrjmQ",
        "outputId": "6c4d28a2-9c26-48e4-ccf2-731b7844471a"
      },
      "source": [
        "np.std(e)"
      ],
      "execution_count": 10,
      "outputs": [
        {
          "output_type": "execute_result",
          "data": {
            "text/plain": [
              "0.6048820983804833"
            ]
          },
          "metadata": {},
          "execution_count": 10
        }
      ]
    },
    {
      "cell_type": "code",
      "metadata": {
        "colab": {
          "base_uri": "https://localhost:8080/"
        },
        "id": "xSCLdttbrmhW",
        "outputId": "6e109002-a165-4d03-cc1d-ee5a22320524"
      },
      "source": [
        "def lik(parameters):\n",
        "  m = parameters[0]\n",
        "  b = parameters[1]\n",
        "  sigma = parameters[2]\n",
        "  for i in np.arange(0,len(x)):\n",
        "    y_exp = m*x + b\n",
        "  L = (len(x)/2 * np.log(2*np.pi) + len(x)/2 * np.log(sigma**2) + 1 / (2*sigma**2) * sum((y - y_exp) **2))\n",
        "  return L\n",
        "\n",
        "x = np.array([1,3,2,1,3])\n",
        "y = np.array([14,24,18,17,27])\n",
        "lik_model = minimize(lik, np.array([2,2,2]), method='Nelder-Mead')\n",
        "lik_model\n",
        "  \n"
      ],
      "execution_count": 14,
      "outputs": [
        {
          "output_type": "execute_result",
          "data": {
            "text/plain": [
              " final_simplex: (array([[ 5.00000631, 10.00000822,  1.67332132],\n",
              "       [ 4.99996581, 10.00008112,  1.67332683],\n",
              "       [ 4.99998382, 10.00002278,  1.67329385],\n",
              "       [ 5.00001119,  9.9999767 ,  1.67334933]]), array([9.66874121, 9.66874121, 9.66874121, 9.66874121]))\n",
              "           fun: 9.668741209395263\n",
              "       message: 'Optimization terminated successfully.'\n",
              "          nfev: 212\n",
              "           nit: 118\n",
              "        status: 0\n",
              "       success: True\n",
              "             x: array([ 5.00000631, 10.00000822,  1.67332132])"
            ]
          },
          "metadata": {},
          "execution_count": 14
        }
      ]
    },
    {
      "cell_type": "code",
      "metadata": {
        "id": "ZzCAh586sw3Y"
      },
      "source": [
        ""
      ],
      "execution_count": null,
      "outputs": []
    }
  ]
}