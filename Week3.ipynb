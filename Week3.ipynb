{
  "nbformat": 4,
  "nbformat_minor": 0,
  "metadata": {
    "colab": {
      "name": "Week3.ipynb",
      "provenance": [],
      "authorship_tag": "ABX9TyNUqfT0O0C77oJxWuc/16XK",
      "include_colab_link": true
    },
    "kernelspec": {
      "name": "python3",
      "display_name": "Python 3"
    },
    "language_info": {
      "name": "python"
    }
  },
  "cells": [
    {
      "cell_type": "markdown",
      "metadata": {
        "id": "view-in-github",
        "colab_type": "text"
      },
      "source": [
        "<a href=\"https://colab.research.google.com/github/shallabhkhera/NPTEL-Data-Analytics-with-Python/blob/main/Week3.ipynb\" target=\"_parent\"><img src=\"https://colab.research.google.com/assets/colab-badge.svg\" alt=\"Open In Colab\"/></a>"
      ]
    },
    {
      "cell_type": "code",
      "metadata": {
        "colab": {
          "base_uri": "https://localhost:8080/"
        },
        "id": "M8qASj9-TzBS",
        "outputId": "98c3b8d7-e668-4c4e-952d-bc4981dcd399"
      },
      "source": [
        "import scipy\n",
        "import numpy as np\n",
        "from scipy.stats import binom\n",
        "\n",
        "print(binom.pmf(k = 19, n = 25, p=0.65))"
      ],
      "execution_count": 1,
      "outputs": [
        {
          "output_type": "stream",
          "text": [
            "0.09077799859322791\n"
          ],
          "name": "stdout"
        }
      ]
    },
    {
      "cell_type": "code",
      "metadata": {
        "colab": {
          "base_uri": "https://localhost:8080/"
        },
        "id": "OeCiK_k3Vw5N",
        "outputId": "99dd4e21-f662-4766-a484-15a481d76a1d"
      },
      "source": [
        "binom.cdf(2,20,.06)"
      ],
      "execution_count": 2,
      "outputs": [
        {
          "output_type": "execute_result",
          "data": {
            "text/plain": [
              "0.8850275957378545"
            ]
          },
          "metadata": {},
          "execution_count": 2
        }
      ]
    },
    {
      "cell_type": "code",
      "metadata": {
        "colab": {
          "base_uri": "https://localhost:8080/"
        },
        "id": "PEo7_N86V6xA",
        "outputId": "33642bf4-03c3-4c9e-8cd7-b4cc6e8c8ef0"
      },
      "source": [
        "from scipy.stats import poisson\n",
        "poisson.pmf(3, 2)"
      ],
      "execution_count": 3,
      "outputs": [
        {
          "output_type": "execute_result",
          "data": {
            "text/plain": [
              "0.18044704431548356"
            ]
          },
          "metadata": {},
          "execution_count": 3
        }
      ]
    },
    {
      "cell_type": "code",
      "metadata": {
        "colab": {
          "base_uri": "https://localhost:8080/"
        },
        "id": "sLUmDWz6WN8R",
        "outputId": "7b7702c2-0e7e-4e66-c1fb-8b724e3caa7d"
      },
      "source": [
        "print (1 - poisson.cdf(7,3.2))"
      ],
      "execution_count": 4,
      "outputs": [
        {
          "output_type": "stream",
          "text": [
            "0.01682984174895752\n"
          ],
          "name": "stdout"
        }
      ]
    },
    {
      "cell_type": "code",
      "metadata": {
        "colab": {
          "base_uri": "https://localhost:8080/"
        },
        "id": "cyaN8G9HWb3J",
        "outputId": "7834aeba-ce52-4acd-c67f-849cd387fe77"
      },
      "source": [
        "U = np.arange(27,40)\n",
        "print(U)\n",
        "Ulist = range(27,40)\n",
        "print(Ulist)"
      ],
      "execution_count": 5,
      "outputs": [
        {
          "output_type": "stream",
          "text": [
            "[27 28 29 30 31 32 33 34 35 36 37 38 39]\n",
            "range(27, 40)\n"
          ],
          "name": "stdout"
        }
      ]
    },
    {
      "cell_type": "code",
      "metadata": {
        "id": "31LgtL2oXAmJ"
      },
      "source": [
        "from scipy.stats import uniform"
      ],
      "execution_count": 6,
      "outputs": []
    },
    {
      "cell_type": "code",
      "metadata": {
        "colab": {
          "base_uri": "https://localhost:8080/"
        },
        "id": "NKEFOOp0XS7I",
        "outputId": "54ec0770-c46f-470e-d6ab-7dbb273ea688"
      },
      "source": [
        "uniform.mean(loc=27, scale=12)"
      ],
      "execution_count": 7,
      "outputs": [
        {
          "output_type": "execute_result",
          "data": {
            "text/plain": [
              "33.0"
            ]
          },
          "metadata": {},
          "execution_count": 7
        }
      ]
    },
    {
      "cell_type": "code",
      "metadata": {
        "colab": {
          "base_uri": "https://localhost:8080/"
        },
        "id": "F9Y269ErXY2I",
        "outputId": "2d34a8f4-09e2-4897-da84-0bb312f1187d"
      },
      "source": [
        "uniform.cdf(np.arange(30,36,1), loc=27, scale=12)"
      ],
      "execution_count": 8,
      "outputs": [
        {
          "output_type": "execute_result",
          "data": {
            "text/plain": [
              "array([0.25      , 0.33333333, 0.41666667, 0.5       , 0.58333333,\n",
              "       0.66666667])"
            ]
          },
          "metadata": {},
          "execution_count": 8
        }
      ]
    },
    {
      "cell_type": "code",
      "metadata": {
        "id": "LfmPoM2fXgSw"
      },
      "source": [
        "from scipy.stats import norm"
      ],
      "execution_count": 9,
      "outputs": []
    },
    {
      "cell_type": "code",
      "metadata": {
        "colab": {
          "base_uri": "https://localhost:8080/"
        },
        "id": "xJ8IVTG2aVV6",
        "outputId": "9b7544fd-08e1-4549-d2ed-853f4b6199d6"
      },
      "source": [
        "val,m,s=68,65.5,2.5\n",
        "print(norm.cdf(val,m,s))"
      ],
      "execution_count": 10,
      "outputs": [
        {
          "output_type": "stream",
          "text": [
            "0.8413447460685429\n"
          ],
          "name": "stdout"
        }
      ]
    },
    {
      "cell_type": "code",
      "metadata": {
        "colab": {
          "base_uri": "https://localhost:8080/"
        },
        "id": "XeSeb7Y2advx",
        "outputId": "013a726d-79fb-40c2-9ed0-9befef86ba33"
      },
      "source": [
        "norm.ppf(0.95)"
      ],
      "execution_count": 11,
      "outputs": [
        {
          "output_type": "execute_result",
          "data": {
            "text/plain": [
              "1.6448536269514722"
            ]
          },
          "metadata": {},
          "execution_count": 11
        }
      ]
    },
    {
      "cell_type": "code",
      "metadata": {
        "id": "auoeRaJjazqR"
      },
      "source": [
        "from scipy.stats import hypergeom"
      ],
      "execution_count": 12,
      "outputs": []
    },
    {
      "cell_type": "code",
      "metadata": {
        "colab": {
          "base_uri": "https://localhost:8080/"
        },
        "id": "GZ2Ju4SJa83o",
        "outputId": "92e09708-5d83-425a-addf-f13fd9fd685d"
      },
      "source": [
        "print(binom.pmf(k = 12, n = 20, p=0.5))"
      ],
      "execution_count": 13,
      "outputs": [
        {
          "output_type": "stream",
          "text": [
            "0.12013435363769531\n"
          ],
          "name": "stdout"
        }
      ]
    }
  ]
}