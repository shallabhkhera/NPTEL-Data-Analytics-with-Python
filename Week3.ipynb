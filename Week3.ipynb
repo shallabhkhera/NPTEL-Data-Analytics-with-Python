{
  "nbformat": 4,
  "nbformat_minor": 0,
  "metadata": {
    "colab": {
      "name": "Week3.ipynb",
      "provenance": [],
      "authorship_tag": "ABX9TyNsodDjwns1li4mW+AfEJ8R",
      "include_colab_link": true
    },
    "kernelspec": {
      "name": "python3",
      "display_name": "Python 3"
    },
    "language_info": {
      "name": "python"
    }
  },
  "cells": [
    {
      "cell_type": "markdown",
      "metadata": {
        "id": "view-in-github",
        "colab_type": "text"
      },
      "source": [
        "<a href=\"https://colab.research.google.com/github/shallabhkhera/NPTEL-Data-Analytics-with-Python/blob/main/Week3.ipynb\" target=\"_parent\"><img src=\"https://colab.research.google.com/assets/colab-badge.svg\" alt=\"Open In Colab\"/></a>"
      ]
    },
    {
      "cell_type": "code",
      "metadata": {
        "colab": {
          "base_uri": "https://localhost:8080/"
        },
        "id": "M8qASj9-TzBS",
        "outputId": "566c525e-a221-4e8c-d510-b176320fee44"
      },
      "source": [
        "import scipy\n",
        "import numpy as np\n",
        "from scipy.stats import binom\n",
        "\n",
        "print(binom.pmf(k = 19, n = 25, p=0.65))"
      ],
      "execution_count": 2,
      "outputs": [
        {
          "output_type": "stream",
          "text": [
            "0.09077799859322791\n"
          ],
          "name": "stdout"
        }
      ]
    },
    {
      "cell_type": "code",
      "metadata": {
        "colab": {
          "base_uri": "https://localhost:8080/"
        },
        "id": "OeCiK_k3Vw5N",
        "outputId": "78ce81b1-f80c-429f-9a29-70c66ab71417"
      },
      "source": [
        "binom.cdf(2,20,.06)"
      ],
      "execution_count": 5,
      "outputs": [
        {
          "output_type": "execute_result",
          "data": {
            "text/plain": [
              "0.8850275957378545"
            ]
          },
          "metadata": {},
          "execution_count": 5
        }
      ]
    },
    {
      "cell_type": "code",
      "metadata": {
        "colab": {
          "base_uri": "https://localhost:8080/"
        },
        "id": "PEo7_N86V6xA",
        "outputId": "07f6b1d2-5245-48e8-94b0-a83d8313634a"
      },
      "source": [
        "from scipy.stats import poisson\n",
        "poisson.pmf(3, 2)"
      ],
      "execution_count": 7,
      "outputs": [
        {
          "output_type": "execute_result",
          "data": {
            "text/plain": [
              "0.18044704431548356"
            ]
          },
          "metadata": {},
          "execution_count": 7
        }
      ]
    },
    {
      "cell_type": "code",
      "metadata": {
        "colab": {
          "base_uri": "https://localhost:8080/"
        },
        "id": "sLUmDWz6WN8R",
        "outputId": "9e22a9ad-8329-4526-e6c7-a908648b8937"
      },
      "source": [
        "print (1 - poisson.cdf(7,3.2))"
      ],
      "execution_count": 8,
      "outputs": [
        {
          "output_type": "stream",
          "text": [
            "0.01682984174895752\n"
          ],
          "name": "stdout"
        }
      ]
    },
    {
      "cell_type": "code",
      "metadata": {
        "colab": {
          "base_uri": "https://localhost:8080/"
        },
        "id": "cyaN8G9HWb3J",
        "outputId": "97883740-0a58-452c-c5f6-c928ba5f2293"
      },
      "source": [
        "U = np.arange(27,40)\n",
        "print(U)\n",
        "Ulist = range(27,40)\n",
        "print(Ulist)"
      ],
      "execution_count": 12,
      "outputs": [
        {
          "output_type": "stream",
          "text": [
            "[27 28 29 30 31 32 33 34 35 36 37 38 39]\n",
            "range(27, 40)\n"
          ],
          "name": "stdout"
        }
      ]
    },
    {
      "cell_type": "code",
      "metadata": {
        "id": "31LgtL2oXAmJ"
      },
      "source": [
        "from scipy.stats import uniform"
      ],
      "execution_count": 13,
      "outputs": []
    },
    {
      "cell_type": "code",
      "metadata": {
        "colab": {
          "base_uri": "https://localhost:8080/"
        },
        "id": "NKEFOOp0XS7I",
        "outputId": "b50fbf45-62f3-4ca6-89c0-c4f25d4e8dcc"
      },
      "source": [
        "uniform.mean(loc=27, scale=12)"
      ],
      "execution_count": 14,
      "outputs": [
        {
          "output_type": "execute_result",
          "data": {
            "text/plain": [
              "33.0"
            ]
          },
          "metadata": {},
          "execution_count": 14
        }
      ]
    },
    {
      "cell_type": "code",
      "metadata": {
        "colab": {
          "base_uri": "https://localhost:8080/"
        },
        "id": "F9Y269ErXY2I",
        "outputId": "a3b02230-2828-4567-a64a-2264e933be87"
      },
      "source": [
        "uniform.cdf(np.arange(30,36,1), loc=27, scale=12)"
      ],
      "execution_count": 15,
      "outputs": [
        {
          "output_type": "execute_result",
          "data": {
            "text/plain": [
              "array([0.25      , 0.33333333, 0.41666667, 0.5       , 0.58333333,\n",
              "       0.66666667])"
            ]
          },
          "metadata": {},
          "execution_count": 15
        }
      ]
    },
    {
      "cell_type": "code",
      "metadata": {
        "id": "LfmPoM2fXgSw"
      },
      "source": [
        "from scipy.stats import norm"
      ],
      "execution_count": 16,
      "outputs": []
    },
    {
      "cell_type": "code",
      "metadata": {
        "colab": {
          "base_uri": "https://localhost:8080/"
        },
        "id": "xJ8IVTG2aVV6",
        "outputId": "5a278132-3409-4a4f-827a-6a4d9e4e9044"
      },
      "source": [
        "val,m,s=68,65.5,2.5\n",
        "print(norm.cdf(val,m,s))"
      ],
      "execution_count": 17,
      "outputs": [
        {
          "output_type": "stream",
          "text": [
            "0.8413447460685429\n"
          ],
          "name": "stdout"
        }
      ]
    },
    {
      "cell_type": "code",
      "metadata": {
        "colab": {
          "base_uri": "https://localhost:8080/"
        },
        "id": "XeSeb7Y2advx",
        "outputId": "d4bde8ce-4315-4549-881a-3fd4258bd068"
      },
      "source": [
        "norm.ppf(0.95)"
      ],
      "execution_count": 18,
      "outputs": [
        {
          "output_type": "execute_result",
          "data": {
            "text/plain": [
              "1.6448536269514722"
            ]
          },
          "metadata": {},
          "execution_count": 18
        }
      ]
    },
    {
      "cell_type": "code",
      "metadata": {
        "id": "auoeRaJjazqR"
      },
      "source": [
        "from scipy.stats import hypergeom"
      ],
      "execution_count": 19,
      "outputs": []
    },
    {
      "cell_type": "code",
      "metadata": {
        "id": "GZ2Ju4SJa83o"
      },
      "source": [
        ""
      ],
      "execution_count": null,
      "outputs": []
    }
  ]
}