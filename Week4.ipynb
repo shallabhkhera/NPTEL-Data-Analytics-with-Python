{
  "nbformat": 4,
  "nbformat_minor": 0,
  "metadata": {
    "colab": {
      "name": "Week4.ipynb",
      "provenance": [],
      "authorship_tag": "ABX9TyPRvul/bH0BazeTSjK7cSOy",
      "include_colab_link": true
    },
    "kernelspec": {
      "name": "python3",
      "display_name": "Python 3"
    },
    "language_info": {
      "name": "python"
    }
  },
  "cells": [
    {
      "cell_type": "markdown",
      "metadata": {
        "id": "view-in-github",
        "colab_type": "text"
      },
      "source": [
        "<a href=\"https://colab.research.google.com/github/shallabhkhera/NPTEL-Data-Analytics-with-Python/blob/main/Week4.ipynb\" target=\"_parent\"><img src=\"https://colab.research.google.com/assets/colab-badge.svg\" alt=\"Open In Colab\"/></a>"
      ]
    },
    {
      "cell_type": "code",
      "metadata": {
        "id": "UNUUV2MjwOkE"
      },
      "source": [
        "from scipy import stats\n",
        "import numpy as np"
      ],
      "execution_count": 9,
      "outputs": []
    },
    {
      "cell_type": "code",
      "metadata": {
        "colab": {
          "base_uri": "https://localhost:8080/"
        },
        "id": "922tYx_HwVo7",
        "outputId": "18660af3-afa3-4687-ab54-815be49b0f32"
      },
      "source": [
        "stats.norm.cdf(.015)"
      ],
      "execution_count": 10,
      "outputs": [
        {
          "output_type": "execute_result",
          "data": {
            "text/plain": [
              "0.5059839098085622"
            ]
          },
          "metadata": {},
          "execution_count": 10
        }
      ]
    },
    {
      "cell_type": "code",
      "metadata": {
        "colab": {
          "base_uri": "https://localhost:8080/"
        },
        "id": "DIYAaiH2wcHA",
        "outputId": "7ae842b8-adc4-4597-f70e-b91e6fd2dd76"
      },
      "source": [
        "stats.norm.ppf(.985)"
      ],
      "execution_count": 11,
      "outputs": [
        {
          "output_type": "execute_result",
          "data": {
            "text/plain": [
              "2.17009037758456"
            ]
          },
          "metadata": {},
          "execution_count": 11
        }
      ]
    },
    {
      "cell_type": "code",
      "metadata": {
        "id": "lfRVCTbXzFvI"
      },
      "source": [
        "x = [10,12,20,21,22,24,18,15]"
      ],
      "execution_count": 14,
      "outputs": []
    },
    {
      "cell_type": "code",
      "metadata": {
        "colab": {
          "base_uri": "https://localhost:8080/"
        },
        "id": "P9VuDj1v_w4k",
        "outputId": "6d9ff9dc-4eed-4d60-f740-c459c5a3da94"
      },
      "source": [
        "stats.ttest_1samp(x,15)"
      ],
      "execution_count": 15,
      "outputs": [
        {
          "output_type": "execute_result",
          "data": {
            "text/plain": [
              "Ttest_1sampResult(statistic=1.5623450931857947, pvalue=0.1621787560592894)"
            ]
          },
          "metadata": {},
          "execution_count": 15
        }
      ]
    },
    {
      "cell_type": "code",
      "metadata": {
        "id": "GQwJFalr_0kq"
      },
      "source": [
        "ice_cream_sales = [13,8,10,10,8,9,10,11,6,8,12,11,11,12,10,12,7,10,11,8]"
      ],
      "execution_count": 16,
      "outputs": []
    },
    {
      "cell_type": "code",
      "metadata": {
        "colab": {
          "base_uri": "https://localhost:8080/"
        },
        "id": "oQl-UCcFATdi",
        "outputId": "91c6940e-7b95-4aec-e32b-c432e45ea52c"
      },
      "source": [
        "stats.ttest_1samp(ice_cream_sales,10)"
      ],
      "execution_count": 17,
      "outputs": [
        {
          "output_type": "execute_result",
          "data": {
            "text/plain": [
              "Ttest_1sampResult(statistic=-0.35843385854878496, pvalue=0.7239703579964252)"
            ]
          },
          "metadata": {},
          "execution_count": 17
        }
      ]
    },
    {
      "cell_type": "code",
      "metadata": {
        "colab": {
          "base_uri": "https://localhost:8080/"
        },
        "id": "5KzHP5wgAbNC",
        "outputId": "fcb41f0e-615a-447b-cfbd-ab8bb95852d0"
      },
      "source": [
        "stats.t.cdf(1.28,119)"
      ],
      "execution_count": 28,
      "outputs": [
        {
          "output_type": "execute_result",
          "data": {
            "text/plain": [
              "0.89848260263858"
            ]
          },
          "metadata": {},
          "execution_count": 28
        }
      ]
    },
    {
      "cell_type": "code",
      "metadata": {
        "colab": {
          "base_uri": "https://localhost:8080/"
        },
        "id": "HU5JB4o5BKRK",
        "outputId": "d9b5347c-92a2-45d5-97a0-0214490f2648"
      },
      "source": [
        "stats.t.cdf(1.28,119)"
      ],
      "execution_count": 24,
      "outputs": [
        {
          "output_type": "execute_result",
          "data": {
            "text/plain": [
              "0.89848260263858"
            ]
          },
          "metadata": {},
          "execution_count": 24
        }
      ]
    },
    {
      "cell_type": "code",
      "metadata": {
        "id": "IAzlXv8oBP2B"
      },
      "source": [
        "from statsmodels.stats.proportion import proportions_ztest"
      ],
      "execution_count": 29,
      "outputs": []
    },
    {
      "cell_type": "code",
      "metadata": {
        "colab": {
          "base_uri": "https://localhost:8080/"
        },
        "id": "MTzGt2pQJUqs",
        "outputId": "6b84925f-ad39-4d4e-bda5-43422f512493"
      },
      "source": [
        "count = 67\n",
        "samplesize=120\n",
        "P=0.5\n",
        "proportions_ztest(count, samplesize, P)"
      ],
      "execution_count": 32,
      "outputs": [
        {
          "output_type": "execute_result",
          "data": {
            "text/plain": [
              "(1.286806739751111, 0.1981616572238455)"
            ]
          },
          "metadata": {},
          "execution_count": 32
        }
      ]
    },
    {
      "cell_type": "code",
      "metadata": {
        "id": "3M1GuclkJjdD"
      },
      "source": [
        "def z_value(x, mu, SEM):\n",
        "  z = (x-mu)/SEM\n",
        "  if(z<0):\n",
        "    alfa = stats.norm.cdf(z)\n",
        "  else:\n",
        "    alfa = 1 - stats.norm.cdf(z)\n",
        "  print (alfa)"
      ],
      "execution_count": 33,
      "outputs": []
    },
    {
      "cell_type": "code",
      "metadata": {
        "colab": {
          "base_uri": "https://localhost:8080/"
        },
        "id": "Zi9nLO-TNaJk",
        "outputId": "de8ce903-5202-458e-debc-41a770e22575"
      },
      "source": [
        "x = 48.5\n",
        "mu=50\n",
        "SEM=.79\n",
        "z_value(x, mu, SEM)"
      ],
      "execution_count": 34,
      "outputs": [
        {
          "output_type": "stream",
          "text": [
            "0.02879971774715278\n"
          ],
          "name": "stdout"
        }
      ]
    },
    {
      "cell_type": "code",
      "metadata": {
        "colab": {
          "base_uri": "https://localhost:8080/"
        },
        "id": "5i8BiLEaNhgb",
        "outputId": "79be3867-a244-484f-ef31-b7de73105e6f"
      },
      "source": [
        "z_value(51.5, mu, SEM)"
      ],
      "execution_count": 35,
      "outputs": [
        {
          "output_type": "stream",
          "text": [
            "0.02879971774715273\n"
          ],
          "name": "stdout"
        }
      ]
    },
    {
      "cell_type": "code",
      "metadata": {
        "id": "0no8wLgaPR-j"
      },
      "source": [
        "def type_2(mu1, mu2, sigma, n, alfa):\n",
        "  z = stats.norm.ppf(alfa)\n",
        "  xbar = mu1+z*sigma/np.sqrt(n))\n",
        "  z2\n",
        "  if(z<0):\n",
        "    alfa = stats.norm.cdf(z)\n",
        "  else:\n",
        "    alfa = 1 - stats.norm.cdf(z)\n",
        "  print (alfa)"
      ],
      "execution_count": null,
      "outputs": []
    }
  ]
}