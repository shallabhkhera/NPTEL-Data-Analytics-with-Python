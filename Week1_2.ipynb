{
  "nbformat": 4,
  "nbformat_minor": 0,
  "metadata": {
    "colab": {
      "name": "Week1_2.ipynb",
      "provenance": [],
      "authorship_tag": "ABX9TyPukbzGWiifq+EzZvDdeLqD",
      "include_colab_link": true
    },
    "kernelspec": {
      "name": "python3",
      "display_name": "Python 3"
    },
    "language_info": {
      "name": "python"
    }
  },
  "cells": [
    {
      "cell_type": "markdown",
      "metadata": {
        "id": "view-in-github",
        "colab_type": "text"
      },
      "source": [
        "<a href=\"https://colab.research.google.com/github/shallabhkhera/NPTEL-Data-Analytics-with-Python/blob/main/Week1_2.ipynb\" target=\"_parent\"><img src=\"https://colab.research.google.com/assets/colab-badge.svg\" alt=\"Open In Colab\"/></a>"
      ]
    },
    {
      "cell_type": "code",
      "metadata": {
        "colab": {
          "base_uri": "https://localhost:8080/"
        },
        "id": "e_sZNU5Bih0h",
        "outputId": "c328bdc0-5675-4891-8e7d-0accb784afa5"
      },
      "source": [
        "import pandas as pd\n",
        "import numpy as np\n",
        "path = 'https://github.com/shallabhkhera/NPTEL-Data-Analytics-with-Python/blob/main/IBM-313Marks.xlsx?raw=true'\n",
        "table = pd.read_excel(path)\n",
        "print(table)\n",
        "\n"
      ],
      "execution_count": 1,
      "outputs": [
        {
          "output_type": "stream",
          "text": [
            "    S.No.  MTE (25)  Mini Project (25)  Total (50)  ETE (50)  Total\n",
            "0       1      5.00                 20       25.00      12.0  37.00\n",
            "1       2     11.05                 20       31.05      26.0  57.05\n",
            "2       3      8.10                 20       28.10      14.0  42.10\n",
            "3       4      6.00                 10       16.00      13.0  29.00\n",
            "4       5     11.35                 20       31.35      17.0  48.35\n",
            "..    ...       ...                ...         ...       ...    ...\n",
            "74     75     12.05                 10       22.05      20.0  42.05\n",
            "75     76     12.25                 10       22.25      28.0  50.25\n",
            "76     77      1.75                 10       11.75       NaN   0.00\n",
            "77     78      3.00                 10       13.00       NaN   0.00\n",
            "78     79      5.80                 10       15.80      12.0  27.80\n",
            "\n",
            "[79 rows x 6 columns]\n"
          ],
          "name": "stdout"
        }
      ]
    },
    {
      "cell_type": "code",
      "metadata": {
        "id": "IQnbNuZPi4s4"
      },
      "source": [
        ""
      ],
      "execution_count": null,
      "outputs": []
    }
  ]
}