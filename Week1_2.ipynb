{
  "nbformat": 4,
  "nbformat_minor": 0,
  "metadata": {
    "colab": {
      "name": "Week1_2.ipynb",
      "provenance": [],
      "authorship_tag": "ABX9TyPaJV3sSmUWTsZvI2abTkLe",
      "include_colab_link": true
    },
    "kernelspec": {
      "name": "python3",
      "display_name": "Python 3"
    },
    "language_info": {
      "name": "python"
    }
  },
  "cells": [
    {
      "cell_type": "markdown",
      "metadata": {
        "id": "view-in-github",
        "colab_type": "text"
      },
      "source": [
        "<a href=\"https://colab.research.google.com/github/shallabhkhera/NPTEL-Data-Analytics-with-Python/blob/main/Week1_2.ipynb\" target=\"_parent\"><img src=\"https://colab.research.google.com/assets/colab-badge.svg\" alt=\"Open In Colab\"/></a>"
      ]
    },
    {
      "cell_type": "code",
      "metadata": {
        "colab": {
          "base_uri": "https://localhost:8080/"
        },
        "id": "e_sZNU5Bih0h",
        "outputId": "53171093-b368-44e5-de14-2bc61062b4f0"
      },
      "source": [
        "import pandas as pd\n",
        "import numpy as np\n",
        "import scipy\n",
        "from scipy import stats\n",
        "from matplotlib import pyplot as plt\n",
        "import statistics\n",
        "\n",
        "path = 'https://github.com/shallabhkhera/NPTEL-Data-Analytics-with-Python/blob/main/IBM-313Marks.xlsx?raw=true'\n",
        "table = pd.read_excel(path)\n",
        "print(table)\n"
      ],
      "execution_count": 22,
      "outputs": [
        {
          "output_type": "stream",
          "text": [
            "    S.No.  MTE (25)  Mini Project (25)  Total (50)  ETE (50)  Total\n",
            "0       1      5.00                 20       25.00      12.0  37.00\n",
            "1       2     11.05                 20       31.05      26.0  57.05\n",
            "2       3      8.10                 20       28.10      14.0  42.10\n",
            "3       4      6.00                 10       16.00      13.0  29.00\n",
            "4       5     11.35                 20       31.35      17.0  48.35\n",
            "..    ...       ...                ...         ...       ...    ...\n",
            "74     75     12.05                 10       22.05      20.0  42.05\n",
            "75     76     12.25                 10       22.25      28.0  50.25\n",
            "76     77      1.75                 10       11.75       NaN   0.00\n",
            "77     78      3.00                 10       13.00       NaN   0.00\n",
            "78     79      5.80                 10       15.80      12.0  27.80\n",
            "\n",
            "[79 rows x 6 columns]\n"
          ],
          "name": "stdout"
        }
      ]
    },
    {
      "cell_type": "code",
      "metadata": {
        "colab": {
          "base_uri": "https://localhost:8080/"
        },
        "id": "IQnbNuZPi4s4",
        "outputId": "5dd4ffe2-fb6c-4f99-adba-c8f3e64bb8b4"
      },
      "source": [
        "x = table['Total']\n",
        "np.mean(x)"
      ],
      "execution_count": 23,
      "outputs": [
        {
          "output_type": "execute_result",
          "data": {
            "text/plain": [
              "46.90632911392405"
            ]
          },
          "metadata": {},
          "execution_count": 23
        }
      ]
    },
    {
      "cell_type": "code",
      "metadata": {
        "colab": {
          "base_uri": "https://localhost:8080/"
        },
        "id": "t819aBPSjLL4",
        "outputId": "4ab3cc6d-89a9-4a0d-d6fb-e33921d6cf18"
      },
      "source": [
        "np.median(x)"
      ],
      "execution_count": 24,
      "outputs": [
        {
          "output_type": "execute_result",
          "data": {
            "text/plain": [
              "45.0"
            ]
          },
          "metadata": {},
          "execution_count": 24
        }
      ]
    },
    {
      "cell_type": "code",
      "metadata": {
        "colab": {
          "base_uri": "https://localhost:8080/"
        },
        "id": "ScMPOha9jSAe",
        "outputId": "5e5e1bb8-48bf-49f6-b2c4-aedb0d9f32e2"
      },
      "source": [
        "print(stats.mode(x)[1][0])"
      ],
      "execution_count": 25,
      "outputs": [
        {
          "output_type": "stream",
          "text": [
            "2\n"
          ],
          "name": "stdout"
        }
      ]
    },
    {
      "cell_type": "code",
      "metadata": {
        "colab": {
          "base_uri": "https://localhost:8080/"
        },
        "id": "00e5RTeDjbzP",
        "outputId": "8346ded7-59ec-4c8e-b1e6-54d446be0d16"
      },
      "source": [
        "a = np.array([1,2,3,4,5])\n",
        "q3 = np.percentile(a,75)\n",
        "print(q3)"
      ],
      "execution_count": 26,
      "outputs": [
        {
          "output_type": "stream",
          "text": [
            "4.0\n"
          ],
          "name": "stdout"
        }
      ]
    },
    {
      "cell_type": "code",
      "metadata": {
        "id": "GICyPxFRkhjf"
      },
      "source": [
        ""
      ],
      "execution_count": 26,
      "outputs": []
    }
  ]
}